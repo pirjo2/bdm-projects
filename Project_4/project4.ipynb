{
 "cells": [
  {
   "cell_type": "markdown",
   "metadata": {
    "id": "E1w9AYcq5R1L"
   },
   "source": [
    "# Big Data Management Project 4:\n",
    "## Airline Delay and Cancellation Prediction with Spark ML\n"
   ]
  },
  {
   "cell_type": "markdown",
   "metadata": {},
   "source": [
    "### Imports & Setup"
   ]
  },
  {
   "cell_type": "markdown",
   "metadata": {},
   "source": [
    "### 1. Data Ingestion and Preparation"
   ]
  },
  {
   "cell_type": "code",
   "execution_count": 16,
   "metadata": {},
   "outputs": [],
   "source": [
    "from pyspark.sql import SparkSession\n",
    "\n",
    "spark = SparkSession.builder \\\n",
    "    .appName(\"BDM_Project4\") \\\n",
    "    .getOrCreate()"
   ]
  },
  {
   "cell_type": "code",
   "execution_count": 80,
   "metadata": {},
   "outputs": [
    {
     "name": "stdout",
     "output_type": "stream",
     "text": [
      "root\n",
      " |-- FL_DATE: date (nullable = true)\n",
      " |-- OP_CARRIER: string (nullable = true)\n",
      " |-- OP_CARRIER_FL_NUM: integer (nullable = true)\n",
      " |-- ORIGIN: string (nullable = true)\n",
      " |-- DEST: string (nullable = true)\n",
      " |-- CRS_DEP_TIME: integer (nullable = true)\n",
      " |-- DEP_TIME: double (nullable = true)\n",
      " |-- DEP_DELAY: double (nullable = true)\n",
      " |-- TAXI_OUT: double (nullable = true)\n",
      " |-- WHEELS_OFF: double (nullable = true)\n",
      " |-- WHEELS_ON: double (nullable = true)\n",
      " |-- TAXI_IN: double (nullable = true)\n",
      " |-- CRS_ARR_TIME: integer (nullable = true)\n",
      " |-- ARR_TIME: double (nullable = true)\n",
      " |-- ARR_DELAY: double (nullable = true)\n",
      " |-- CANCELLED: double (nullable = true)\n",
      " |-- CANCELLATION_CODE: string (nullable = true)\n",
      " |-- DIVERTED: double (nullable = true)\n",
      " |-- CRS_ELAPSED_TIME: double (nullable = true)\n",
      " |-- ACTUAL_ELAPSED_TIME: double (nullable = true)\n",
      " |-- AIR_TIME: double (nullable = true)\n",
      " |-- DISTANCE: double (nullable = true)\n",
      " |-- CARRIER_DELAY: double (nullable = true)\n",
      " |-- WEATHER_DELAY: double (nullable = true)\n",
      " |-- NAS_DELAY: double (nullable = true)\n",
      " |-- SECURITY_DELAY: double (nullable = true)\n",
      " |-- LATE_AIRCRAFT_DELAY: double (nullable = true)\n",
      " |-- Unnamed: 27: string (nullable = true)\n",
      "\n",
      "+----------+----------+-----------------+------+----+------------+--------+---------+--------+----------+---------+-------+------------+--------+---------+---------+-----------------+--------+----------------+-------------------+--------+--------+-------------+-------------+---------+--------------+-------------------+-----------+\n",
      "|   FL_DATE|OP_CARRIER|OP_CARRIER_FL_NUM|ORIGIN|DEST|CRS_DEP_TIME|DEP_TIME|DEP_DELAY|TAXI_OUT|WHEELS_OFF|WHEELS_ON|TAXI_IN|CRS_ARR_TIME|ARR_TIME|ARR_DELAY|CANCELLED|CANCELLATION_CODE|DIVERTED|CRS_ELAPSED_TIME|ACTUAL_ELAPSED_TIME|AIR_TIME|DISTANCE|CARRIER_DELAY|WEATHER_DELAY|NAS_DELAY|SECURITY_DELAY|LATE_AIRCRAFT_DELAY|Unnamed: 27|\n",
      "+----------+----------+-----------------+------+----+------------+--------+---------+--------+----------+---------+-------+------------+--------+---------+---------+-----------------+--------+----------------+-------------------+--------+--------+-------------+-------------+---------+--------------+-------------------+-----------+\n",
      "|2009-01-01|        XE|             1204|   DCA| EWR|        1100|  1058.0|     -2.0|    18.0|    1116.0|   1158.0|    8.0|        1202|  1206.0|      4.0|      0.0|             NULL|     0.0|            62.0|               68.0|    42.0|   199.0|         NULL|         NULL|     NULL|          NULL|               NULL|       NULL|\n",
      "|2009-01-01|        XE|             1206|   EWR| IAD|        1510|  1509.0|     -1.0|    28.0|    1537.0|   1620.0|    4.0|        1632|  1624.0|     -8.0|      0.0|             NULL|     0.0|            82.0|               75.0|    43.0|   213.0|         NULL|         NULL|     NULL|          NULL|               NULL|       NULL|\n",
      "|2009-01-01|        XE|             1207|   EWR| DCA|        1100|  1059.0|     -1.0|    20.0|    1119.0|   1155.0|    6.0|        1210|  1201.0|     -9.0|      0.0|             NULL|     0.0|            70.0|               62.0|    36.0|   199.0|         NULL|         NULL|     NULL|          NULL|               NULL|       NULL|\n",
      "|2009-01-01|        XE|             1208|   DCA| EWR|        1240|  1249.0|      9.0|    10.0|    1259.0|   1336.0|    9.0|        1357|  1345.0|    -12.0|      0.0|             NULL|     0.0|            77.0|               56.0|    37.0|   199.0|         NULL|         NULL|     NULL|          NULL|               NULL|       NULL|\n",
      "|2009-01-01|        XE|             1209|   IAD| EWR|        1715|  1705.0|    -10.0|    24.0|    1729.0|   1809.0|   13.0|        1900|  1822.0|    -38.0|      0.0|             NULL|     0.0|           105.0|               77.0|    40.0|   213.0|         NULL|         NULL|     NULL|          NULL|               NULL|       NULL|\n",
      "+----------+----------+-----------------+------+----+------------+--------+---------+--------+----------+---------+-------+------------+--------+---------+---------+-----------------+--------+----------------+-------------------+--------+--------+-------------+-------------+---------+--------------+-------------------+-----------+\n",
      "only showing top 5 rows\n",
      "\n"
     ]
    }
   ],
   "source": [
    "df2009 = (spark.read\n",
    "      .option(\"header\", \"true\")\n",
    "      .option(\"inferSchema\", \"true\")\n",
    "      .csv(\"input/2009.csv\"))  \n",
    "df2009.printSchema()\n",
    "df2009.show(5)"
   ]
  },
  {
   "cell_type": "markdown",
   "metadata": {},
   "source": [
    "#### Save as parquet, partitioned by extracted month"
   ]
  },
  {
   "cell_type": "code",
   "execution_count": 81,
   "metadata": {},
   "outputs": [],
   "source": [
    "from pyspark.sql.functions import col, month, dayofweek\n",
    "\n",
    "df2009 = df2009.withColumn(\"Month\", month(col(\"FL_DATE\")))\n",
    "df2009 = df2009.withColumn(\"DayOfWeek\", dayofweek(col(\"FL_DATE\")))\n",
    "df2009.write.mode(\"overwrite\").partitionBy(\"Month\").parquet(\"/home/jovyan/input/2009_parquet/\")"
   ]
  },
  {
   "cell_type": "markdown",
   "metadata": {},
   "source": [
    "### 2. Cleaning and Preprocessing "
   ]
  },
  {
   "cell_type": "code",
   "execution_count": 84,
   "metadata": {},
   "outputs": [],
   "source": [
    "df2009 = df2009.drop(\"Unnamed: 27\")\n",
    "\n",
    "df2009 = df2009.withColumnRenamed(\"OP_CARRIER\", \"UniqueCarrier\") \n",
    "df2009 = df2009.withColumnRenamed(\"OP_CARRIER_FL_NUM\", \"UniqueCarrierFlightNumber\") \n",
    "\n",
    "df2009_cleaned = df2009.dropna(subset=['FL_DATE', 'UniqueCarrier'])\n",
    "\n",
    "df2009_cleaned = df2009_cleaned.filter(col(\"DIVERTED\") == 0.0)\n",
    "\n",
    "df2009_cleaned = df2009_cleaned.withColumn(\"Month\", month(\"FL_DATE\")) \\\n",
    "                                 .withColumn(\"DayOfWeek\", dayofweek(\"FL_DATE\"))"
   ]
  },
  {
   "cell_type": "markdown",
   "metadata": {},
   "source": [
    "### 3. Exploratory Analysis "
   ]
  },
  {
   "cell_type": "code",
   "execution_count": 86,
   "metadata": {},
   "outputs": [
    {
     "data": {
      "text/plain": [
       "87038"
      ]
     },
     "execution_count": 86,
     "metadata": {},
     "output_type": "execute_result"
    }
   ],
   "source": [
    "cancelled = df2009_cleaned.filter(df2009_cleaned[\"CANCELLED\"] == 1.0)\n",
    "cancelled.count()"
   ]
  },
  {
   "cell_type": "code",
   "execution_count": 87,
   "metadata": {},
   "outputs": [
    {
     "name": "stdout",
     "output_type": "stream",
     "text": [
      "+-------------+-----+\n",
      "|UniqueCarrier|count|\n",
      "+-------------+-----+\n",
      "|           MQ|10695|\n",
      "|           AA| 9191|\n",
      "|           WN| 8405|\n",
      "|           OO| 7423|\n",
      "|           EV| 6314|\n",
      "|           UA| 6213|\n",
      "|           XE| 5193|\n",
      "|           OH| 5108|\n",
      "|           US| 5047|\n",
      "|           DL| 4799|\n",
      "+-------------+-----+\n",
      "\n"
     ]
    }
   ],
   "source": [
    "# Top 10 carriers by number of flights\n",
    "top_10_carriers = cancelled.groupBy(\"UniqueCarrier\").count().orderBy(\"count\", ascending=False).limit(10)\n",
    "top_10_carriers.show()"
   ]
  },
  {
   "cell_type": "code",
   "execution_count": 88,
   "metadata": {},
   "outputs": [
    {
     "name": "stdout",
     "output_type": "stream",
     "text": [
      "+-----------------+-----+\n",
      "|CANCELLATION_CODE|count|\n",
      "+-----------------+-----+\n",
      "|                B|36651|\n",
      "|                A|35568|\n",
      "|                C|14799|\n",
      "|                D|   20|\n",
      "+-----------------+-----+\n",
      "\n"
     ]
    }
   ],
   "source": [
    "# Count cancellation reasons\n",
    "cancel_reasons = cancelled.groupBy(\"CANCELLATION_CODE\").count().orderBy(\"count\", ascending=False)\n",
    "cancel_reasons.show()"
   ]
  },
  {
   "cell_type": "markdown",
   "metadata": {},
   "source": [
    "From Kaggle:\n",
    "Reason for Cancellation of flight: \n",
    "A - Airline/Carrier; \n",
    "B - Weather; \n",
    "C - National Air System; \n",
    "D - Security"
   ]
  },
  {
   "cell_type": "code",
   "execution_count": 89,
   "metadata": {},
   "outputs": [
    {
     "data": {
      "image/png": "[encoded data removed]",
      "text/plain": [
       "<Figure size 600x500 with 1 Axes>"
      ]
     },
     "metadata": {},
     "output_type": "display_data"
    }
   ],
   "source": [
    "import matplotlib.pyplot as plt\n",
    "cancel_reasons_pd = cancel_reasons.toPandas()\n",
    "\n",
    "plt.figure(figsize=(6,5))\n",
    "plt.bar(cancel_reasons_pd[\"CANCELLATION_CODE\"], cancel_reasons_pd[\"count\"], color='salmon')\n",
    "plt.xlabel(\"Cancellation Code\")\n",
    "plt.ylabel(\"Count\")\n",
    "plt.title(\"Cancellation Reasons\")\n",
    "plt.tight_layout()\n",
    "plt.show()"
   ]
  },
  {
   "cell_type": "code",
   "execution_count": 90,
   "metadata": {},
   "outputs": [
    {
     "name": "stdout",
     "output_type": "stream",
     "text": [
      "+--------+-----+\n",
      "|   Route|count|\n",
      "+--------+-----+\n",
      "|OGG->HNL|13328|\n",
      "|HNL->OGG|12963|\n",
      "|SFO->LAX|12132|\n",
      "|LAX->SFO|12122|\n",
      "|SAN->LAX|11020|\n",
      "|LAX->SAN|11012|\n",
      "|BOS->LGA|10870|\n",
      "|LGA->BOS|10866|\n",
      "|LAX->LAS|10682|\n",
      "|LAS->LAX|10659|\n",
      "+--------+-----+\n",
      "only showing top 10 rows\n",
      "\n"
     ]
    }
   ],
   "source": [
    "from pyspark.sql.functions import concat_ws\n",
    "\n",
    "df2009_cleaned.withColumn(\"Route\", concat_ws(\"->\", \"ORIGIN\", \"DEST\")) \\\n",
    "               .groupBy(\"Route\").count().orderBy(\"count\", ascending=False).show(10)"
   ]
  },
  {
   "cell_type": "code",
   "execution_count": 91,
   "metadata": {},
   "outputs": [
    {
     "name": "stdout",
     "output_type": "stream",
     "text": [
      "+---------+-------+\n",
      "|CANCELLED|  count|\n",
      "+---------+-------+\n",
      "|      0.0|6326977|\n",
      "|      1.0|  87038|\n",
      "+---------+-------+\n",
      "\n",
      "Imbalance Ratio: 72.69\n"
     ]
    }
   ],
   "source": [
    "class_dist = df2009_cleaned.groupBy(\"CANCELLED\").count()\n",
    "class_dist.show()\n",
    "\n",
    "counts = class_dist.collect()\n",
    "class_counts = {row['CANCELLED']: row['count'] for row in counts}\n",
    "\n",
    "imbalance_ratio = max(class_counts.values()) / min(class_counts.values())\n",
    "print(f\"Imbalance Ratio: {imbalance_ratio:.2f}\")"
   ]
  }
 ],
 "metadata": {
  "application/vnd.databricks.v1+notebook": {
   "dashboards": [],
   "language": "python",
   "notebookMetadata": {
    "pythonIndentUnit": 2
   },
   "notebookName": "Practice session - Dataframe",
   "notebookOrigID": 1061204080530756,
   "widgets": {}
  },
  "colab": {
   "provenance": []
  },
  "kernelspec": {
   "display_name": "Python 3 (ipykernel)",
   "language": "python",
   "name": "python3"
  },
  "language_info": {
   "codemirror_mode": {
    "name": "ipython",
    "version": 3
   },
   "file_extension": ".py",
   "mimetype": "text/x-python",
   "name": "python",
   "nbconvert_exporter": "python",
   "pygments_lexer": "ipython3",
   "version": "3.11.10"
  }
 },
 "nbformat": 4,
 "nbformat_minor": 4
}
