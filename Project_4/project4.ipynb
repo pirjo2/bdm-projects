{
  "cells": [
    {
      "cell_type": "markdown",
      "metadata": {
        "id": "E1w9AYcq5R1L"
      },
      "source": [
        "# Big Data Management Project 4:\n",
        "## Airline Delay and Cancellation Prediction with Spark ML\n"
      ]
    },
    {
      "cell_type": "markdown",
      "metadata": {
        "id": "F9NtdW73ROym"
      },
      "source": [
        "### Imports & Setup"
      ]
    },
    {
      "cell_type": "markdown",
      "metadata": {
        "id": "5yY93y0lROym"
      },
      "source": [
        "### 1. Data Ingestion and Preparation"
      ]
    },
    {
      "cell_type": "code",
      "execution_count": 8,
      "metadata": {
        "id": "Obbka1FrROym"
      },
      "outputs": [],
      "source": [
        "from pyspark.sql import SparkSession\n",
        "\n",
        "spark = SparkSession.builder \\\n",
        "    .appName(\"BDM_Project4\") \\\n",
        "    .getOrCreate()"
      ]
    },
    {
      "cell_type": "code",
      "execution_count": 10,
      "metadata": {
        "colab": {
          "base_uri": "https://localhost:8080/"
        },
        "id": "yRK-kseRROym",
        "outputId": "df26a813-002a-4e43-efb4-f3651ca926d6"
      },
      "outputs": [
        {
          "name": "stdout",
          "output_type": "stream",
          "text": [
            "root\n",
            " |-- FL_DATE: date (nullable = true)\n",
            " |-- OP_CARRIER: string (nullable = true)\n",
            " |-- OP_CARRIER_FL_NUM: integer (nullable = true)\n",
            " |-- ORIGIN: string (nullable = true)\n",
            " |-- DEST: string (nullable = true)\n",
            " |-- CRS_DEP_TIME: integer (nullable = true)\n",
            " |-- DEP_TIME: double (nullable = true)\n",
            " |-- DEP_DELAY: double (nullable = true)\n",
            " |-- TAXI_OUT: double (nullable = true)\n",
            " |-- WHEELS_OFF: double (nullable = true)\n",
            " |-- WHEELS_ON: double (nullable = true)\n",
            " |-- TAXI_IN: double (nullable = true)\n",
            " |-- CRS_ARR_TIME: integer (nullable = true)\n",
            " |-- ARR_TIME: double (nullable = true)\n",
            " |-- ARR_DELAY: double (nullable = true)\n",
            " |-- CANCELLED: double (nullable = true)\n",
            " |-- CANCELLATION_CODE: string (nullable = true)\n",
            " |-- DIVERTED: double (nullable = true)\n",
            " |-- CRS_ELAPSED_TIME: double (nullable = true)\n",
            " |-- ACTUAL_ELAPSED_TIME: double (nullable = true)\n",
            " |-- AIR_TIME: double (nullable = true)\n",
            " |-- DISTANCE: double (nullable = true)\n",
            " |-- CARRIER_DELAY: double (nullable = true)\n",
            " |-- WEATHER_DELAY: double (nullable = true)\n",
            " |-- NAS_DELAY: double (nullable = true)\n",
            " |-- SECURITY_DELAY: double (nullable = true)\n",
            " |-- LATE_AIRCRAFT_DELAY: double (nullable = true)\n",
            " |-- Unnamed: 27: string (nullable = true)\n",
            "\n",
            "+----------+----------+-----------------+------+----+------------+--------+---------+--------+----------+---------+-------+------------+--------+---------+---------+-----------------+--------+----------------+-------------------+--------+--------+-------------+-------------+---------+--------------+-------------------+-----------+\n",
            "|   FL_DATE|OP_CARRIER|OP_CARRIER_FL_NUM|ORIGIN|DEST|CRS_DEP_TIME|DEP_TIME|DEP_DELAY|TAXI_OUT|WHEELS_OFF|WHEELS_ON|TAXI_IN|CRS_ARR_TIME|ARR_TIME|ARR_DELAY|CANCELLED|CANCELLATION_CODE|DIVERTED|CRS_ELAPSED_TIME|ACTUAL_ELAPSED_TIME|AIR_TIME|DISTANCE|CARRIER_DELAY|WEATHER_DELAY|NAS_DELAY|SECURITY_DELAY|LATE_AIRCRAFT_DELAY|Unnamed: 27|\n",
            "+----------+----------+-----------------+------+----+------------+--------+---------+--------+----------+---------+-------+------------+--------+---------+---------+-----------------+--------+----------------+-------------------+--------+--------+-------------+-------------+---------+--------------+-------------------+-----------+\n",
            "|2009-01-01|        XE|             1204|   DCA| EWR|        1100|  1058.0|     -2.0|    18.0|    1116.0|   1158.0|    8.0|        1202|  1206.0|      4.0|      0.0|             NULL|     0.0|            62.0|               68.0|    42.0|   199.0|         NULL|         NULL|     NULL|          NULL|               NULL|       NULL|\n",
            "|2009-01-01|        XE|             1206|   EWR| IAD|        1510|  1509.0|     -1.0|    28.0|    1537.0|   1620.0|    4.0|        1632|  1624.0|     -8.0|      0.0|             NULL|     0.0|            82.0|               75.0|    43.0|   213.0|         NULL|         NULL|     NULL|          NULL|               NULL|       NULL|\n",
            "|2009-01-01|        XE|             1207|   EWR| DCA|        1100|  1059.0|     -1.0|    20.0|    1119.0|   1155.0|    6.0|        1210|  1201.0|     -9.0|      0.0|             NULL|     0.0|            70.0|               62.0|    36.0|   199.0|         NULL|         NULL|     NULL|          NULL|               NULL|       NULL|\n",
            "|2009-01-01|        XE|             1208|   DCA| EWR|        1240|  1249.0|      9.0|    10.0|    1259.0|   1336.0|    9.0|        1357|  1345.0|    -12.0|      0.0|             NULL|     0.0|            77.0|               56.0|    37.0|   199.0|         NULL|         NULL|     NULL|          NULL|               NULL|       NULL|\n",
            "|2009-01-01|        XE|             1209|   IAD| EWR|        1715|  1705.0|    -10.0|    24.0|    1729.0|   1809.0|   13.0|        1900|  1822.0|    -38.0|      0.0|             NULL|     0.0|           105.0|               77.0|    40.0|   213.0|         NULL|         NULL|     NULL|          NULL|               NULL|       NULL|\n",
            "+----------+----------+-----------------+------+----+------------+--------+---------+--------+----------+---------+-------+------------+--------+---------+---------+-----------------+--------+----------------+-------------------+--------+--------+-------------+-------------+---------+--------------+-------------------+-----------+\n",
            "only showing top 5 rows\n",
            "\n"
          ]
        }
      ],
      "source": [
        "df2009 = (spark.read\n",
        "      .option(\"header\", \"true\")\n",
        "      .option(\"inferSchema\", \"true\")\n",
        "      .csv(\"input/2009.csv\"))\n",
        "df2009.printSchema()\n",
        "df2009.show(5)"
      ]
    },
    {
      "cell_type": "markdown",
      "metadata": {
        "id": "ujO9eV9QROyn"
      },
      "source": [
        "#### Save as parquet, partitioned by extracted month"
      ]
    },
    {
      "cell_type": "code",
      "execution_count": 11,
      "metadata": {
        "id": "Djg6w2bNROyn"
      },
      "outputs": [],
      "source": [
        "from pyspark.sql.functions import col, month, dayofweek\n",
        "\n",
        "df2009 = df2009.withColumn(\"Month\", month(col(\"FL_DATE\")))\n",
        "df2009 = df2009.withColumn(\"DayOfWeek\", dayofweek(col(\"FL_DATE\")))\n",
        "df2009.write.mode(\"overwrite\").partitionBy(\"Month\").parquet(\"/home/jovyan/input/2009_parquet/\")"
      ]
    },
    {
      "cell_type": "markdown",
      "metadata": {
        "id": "9ALhnXNHROyn"
      },
      "source": [
        "### 2. Cleaning and Preprocessing"
      ]
    },
    {
      "cell_type": "code",
      "execution_count": 4,
      "metadata": {
        "id": "P8bdWbcDROyn"
      },
      "outputs": [],
      "source": [
        "df2009 = df2009.drop(\"Unnamed: 27\")\n",
        "\n",
        "df2009 = df2009.withColumnRenamed(\"OP_CARRIER\", \"UniqueCarrier\")\n",
        "df2009 = df2009.withColumnRenamed(\"OP_CARRIER_FL_NUM\", \"UniqueCarrierFlightNumber\")\n",
        "\n",
        "df2009_cleaned = df2009.dropna(subset=['FL_DATE', 'UniqueCarrier'])\n",
        "\n",
        "df2009_cleaned = df2009_cleaned.filter(col(\"DIVERTED\") == 0.0)\n",
        "\n",
        "df2009_cleaned = df2009_cleaned.withColumn(\"Month\", month(\"FL_DATE\")) \\\n",
        "                                 .withColumn(\"DayOfWeek\", dayofweek(\"FL_DATE\"))"
      ]
    },
    {
      "cell_type": "markdown",
      "metadata": {
        "id": "mWVxxYGOROyn"
      },
      "source": [
        "### 3. Exploratory Analysis"
      ]
    },
    {
      "cell_type": "code",
      "execution_count": 12,
      "metadata": {
        "colab": {
          "base_uri": "https://localhost:8080/"
        },
        "id": "1Rtan-2PgZLN",
        "outputId": "e247eab8-b538-46d0-826d-8fb73a3b4799"
      },
      "outputs": [
        {
          "name": "stdout",
          "output_type": "stream",
          "text": [
            "+---------+------+\n",
            "|CANCELLED| count|\n",
            "+---------+------+\n",
            "|      0.0|390415|\n",
            "|      1.0|  7698|\n",
            "+---------+------+\n",
            "\n"
          ]
        }
      ],
      "source": [
        "df2009_cleaned.groupBy(\"CANCELLED\").count().show()"
      ]
    },
    {
      "cell_type": "code",
      "execution_count": 13,
      "metadata": {
        "colab": {
          "base_uri": "https://localhost:8080/"
        },
        "id": "2M7AdouUROyn",
        "outputId": "70aaa568-2512-468f-a273-7acbdae77c68"
      },
      "outputs": [
        {
          "data": {
            "text/plain": [
              "7698"
            ]
          },
          "execution_count": 13,
          "metadata": {},
          "output_type": "execute_result"
        }
      ],
      "source": [
        "cancelled = df2009_cleaned.filter(df2009_cleaned[\"CANCELLED\"] == 1.0)\n",
        "cancelled.count()"
      ]
    },
    {
      "cell_type": "code",
      "execution_count": 14,
      "metadata": {
        "colab": {
          "base_uri": "https://localhost:8080/"
        },
        "id": "Cwh0qIzRROyn",
        "outputId": "de24b740-699a-409e-a82f-5c9aa3fbf607"
      },
      "outputs": [
        {
          "name": "stdout",
          "output_type": "stream",
          "text": [
            "+-------------+-----+\n",
            "|UniqueCarrier|count|\n",
            "+-------------+-----+\n",
            "|           OO| 1003|\n",
            "|           WN|  983|\n",
            "|           AA|  976|\n",
            "|           MQ|  781|\n",
            "|           UA|  557|\n",
            "|           EV|  502|\n",
            "|           US|  434|\n",
            "|           XE|  414|\n",
            "|           9E|  363|\n",
            "|           DL|  357|\n",
            "+-------------+-----+\n",
            "\n"
          ]
        }
      ],
      "source": [
        "# Top 10 carriers by number of flights\n",
        "top_10_carriers = cancelled.groupBy(\"UniqueCarrier\").count().orderBy(\"count\", ascending=False).limit(10)\n",
        "top_10_carriers.show()"
      ]
    },
    {
      "cell_type": "code",
      "execution_count": 15,
      "metadata": {
        "colab": {
          "base_uri": "https://localhost:8080/"
        },
        "id": "TWZhg9TkROyn",
        "outputId": "20f8273e-1471-434a-d819-5c43aeb057f8"
      },
      "outputs": [
        {
          "name": "stdout",
          "output_type": "stream",
          "text": [
            "+-----------------+-----+\n",
            "|CANCELLATION_CODE|count|\n",
            "+-----------------+-----+\n",
            "|                B| 3383|\n",
            "|                A| 3105|\n",
            "|                C| 1210|\n",
            "+-----------------+-----+\n",
            "\n"
          ]
        }
      ],
      "source": [
        "# Count cancellation reasons\n",
        "cancel_reasons = cancelled.groupBy(\"CANCELLATION_CODE\").count().orderBy(\"count\", ascending=False)\n",
        "cancel_reasons.show()"
      ]
    },
    {
      "cell_type": "markdown",
      "metadata": {
        "id": "-iwUvzfTROyo"
      },
      "source": [
        "From Kaggle:\n",
        "Reason for Cancellation of flight:\n",
        "- A - Airline/Carrier;\n",
        "- B - Weather;\n",
        "- C - National Air System;\n",
        "- D - Security"
      ]
    },
    {
      "cell_type": "code",
      "execution_count": 16,
      "metadata": {
        "colab": {
          "base_uri": "https://localhost:8080/",
          "height": 507
        },
        "id": "pqYN3A_oROyo",
        "outputId": "3159129e-12b7-4b71-a1c9-146992132fb8"
      },
      "outputs": [
        {
          "data": {
            "image/png": "[encoded data removed]",
            "text/plain": [
              "<Figure size 600x500 with 1 Axes>"
            ]
          },
          "metadata": {},
          "output_type": "display_data"
        }
      ],
      "source": [
        "import matplotlib.pyplot as plt\n",
        "cancel_reasons_pd = cancel_reasons.toPandas()\n",
        "\n",
        "plt.figure(figsize=(6,5))\n",
        "plt.bar(cancel_reasons_pd[\"CANCELLATION_CODE\"], cancel_reasons_pd[\"count\"], color='salmon')\n",
        "plt.xlabel(\"Cancellation Code\")\n",
        "plt.ylabel(\"Count\")\n",
        "plt.title(\"Cancellation Reasons\")\n",
        "plt.tight_layout()\n",
        "plt.show()"
      ]
    },
    {
      "cell_type": "code",
      "execution_count": 17,
      "metadata": {
        "colab": {
          "base_uri": "https://localhost:8080/"
        },
        "id": "Ufm6SlucROyo",
        "outputId": "30012b42-fbc9-4c86-b605-770dc230e68e"
      },
      "outputs": [
        {
          "name": "stdout",
          "output_type": "stream",
          "text": [
            "+--------+-----+\n",
            "|   Route|count|\n",
            "+--------+-----+\n",
            "|OGG->HNL|  829|\n",
            "|HNL->OGG|  807|\n",
            "|SFO->LAX|  762|\n",
            "|LAX->SFO|  721|\n",
            "|HNL->LIH|  685|\n",
            "|BOS->LGA|  672|\n",
            "|LGA->BOS|  672|\n",
            "|LGA->ORD|  665|\n",
            "|LIH->HNL|  662|\n",
            "|SAN->LAX|  661|\n",
            "+--------+-----+\n",
            "only showing top 10 rows\n",
            "\n"
          ]
        }
      ],
      "source": [
        "from pyspark.sql.functions import concat_ws\n",
        "\n",
        "df2009_cleaned.withColumn(\"Route\", concat_ws(\"->\", \"ORIGIN\", \"DEST\")) \\\n",
        "               .groupBy(\"Route\").count().orderBy(\"count\", ascending=False).show(10)"
      ]
    },
    {
      "cell_type": "code",
      "execution_count": 18,
      "metadata": {
        "colab": {
          "base_uri": "https://localhost:8080/"
        },
        "id": "nTneOz1tROyo",
        "outputId": "f828a45d-bbfe-476d-ab11-9a1ae1e76a72"
      },
      "outputs": [
        {
          "name": "stdout",
          "output_type": "stream",
          "text": [
            "+---------+------+\n",
            "|CANCELLED| count|\n",
            "+---------+------+\n",
            "|      0.0|390415|\n",
            "|      1.0|  7698|\n",
            "+---------+------+\n",
            "\n",
            "Imbalance Ratio: 50.72\n"
          ]
        }
      ],
      "source": [
        "class_dist = df2009_cleaned.groupBy(\"CANCELLED\").count()\n",
        "class_dist.show()\n",
        "\n",
        "counts = class_dist.collect()\n",
        "class_counts = {row['CANCELLED']: row['count'] for row in counts}\n",
        "\n",
        "imbalance_ratio = max(class_counts.values()) / min(class_counts.values())\n",
        "print(f\"Imbalance Ratio: {imbalance_ratio:.2f}\")"
      ]
    },
    {
      "cell_type": "markdown",
      "metadata": {
        "id": "Ktbk7-xk7JaZ"
      },
      "source": [
        "### 4. Feature Engineering"
      ]
    },
    {
      "cell_type": "markdown",
      "metadata": {
        "id": "bUg5ufYK7JaZ"
      },
      "source": [
        "Categorical features (UniqueCarrier, ORIGIN, DEST) were encoded using StringIndexer and OneHotEncoder. Numerical features (DEP_DELAY, ARR_DELAY, CRS_ELAPSED_TIME) were included directly. All features were combined into a single vector with VectorAssembler for use in modeling."
      ]
    },
    {
      "cell_type": "code",
      "execution_count": 19,
      "metadata": {
        "colab": {
          "base_uri": "https://localhost:8080/"
        },
        "id": "6_-zqlXhbsoL",
        "outputId": "8d9cd18c-d11d-417b-c176-0dfa85270ed1"
      },
      "outputs": [
        {
          "name": "stdout",
          "output_type": "stream",
          "text": [
            "+--------------------------------------------------------------+---------+\n",
            "|features                                                      |CANCELLED|\n",
            "+--------------------------------------------------------------+---------+\n",
            "|(583,[7,41,312,580,581,582],[1.0,1.0,1.0,62.0,1100.0,1202.0]) |0.0      |\n",
            "|(583,[7,32,328,580,581,582],[1.0,1.0,1.0,82.0,1510.0,1632.0]) |0.0      |\n",
            "|(583,[7,32,321,580,581,582],[1.0,1.0,1.0,70.0,1100.0,1210.0]) |0.0      |\n",
            "|(583,[7,41,312,580,581,582],[1.0,1.0,1.0,77.0,1240.0,1357.0]) |0.0      |\n",
            "|(583,[7,48,312,580,581,582],[1.0,1.0,1.0,105.0,1715.0,1900.0])|0.0      |\n",
            "+--------------------------------------------------------------+---------+\n",
            "only showing top 5 rows\n",
            "\n"
          ]
        }
      ],
      "source": [
        "# === 4. Feature Engineering === Eidi\n",
        "\n",
        "from pyspark.ml.feature import StringIndexer, OneHotEncoder, VectorAssembler\n",
        "from pyspark.ml import Pipeline\n",
        "\n",
        "cat_cols = [\"UniqueCarrier\", \"ORIGIN\", \"DEST\"]\n",
        "# DEP_DELAY ja ARR_DELAY jätsin välja, kuna need veerud sisaldavad\n",
        "#tühistatud lendude (CANCELLED = 1.0) puhul puuduvaid väärtusi.\n",
        "# Kui need jätta sisse, siis VectorAssembler\n",
        "# df_prepared_clean = df_prepared.dropna(subset=assembler_inputs + [\"CANCELLED\"])\n",
        "#viskab need read välja (Eemalab kõik read, kus mõni\n",
        "#VectorAssembler sisend või 'CANCELLED' on null.\"\n",
        "# Mudel ei saa õppida tühistatud lendude pealt.\n",
        "# Kasutasin ainult CRS_ELAPSED_TIME, mis on kõigi lendude puhul olemas.\n",
        "# ehk siis tehtniliselt, siia peab vaatama veerunimesid mille puhul\n",
        "# tunnused oleks kõigi lendue puhul ka olemas, mitte null valuga\n",
        "num_cols = [\"CRS_ELAPSED_TIME\", \"CRS_DEP_TIME\", \"CRS_ARR_TIME\"]\n",
        "\n",
        "\n",
        "indexers = [StringIndexer(inputCol=col, outputCol=col + \"_Index\", handleInvalid=\"keep\") for col in cat_cols]\n",
        "encoders = [OneHotEncoder(inputCol=col + \"_Index\", outputCol=col + \"_Vec\", handleInvalid=\"keep\") for col in cat_cols]\n",
        "\n",
        "assembler_inputs = [col + \"_Vec\" for col in cat_cols] + num_cols\n",
        "assembler = VectorAssembler(inputCols=assembler_inputs, outputCol=\"features\", handleInvalid=\"skip\")\n",
        "\n",
        "pipeline = Pipeline(stages=indexers + encoders + [assembler])\n",
        "\n",
        "pipeline_model = pipeline.fit(df2009_cleaned)\n",
        "df_prepared = pipeline_model.transform(df2009_cleaned)\n",
        "\n",
        "df_prepared_clean = df_prepared.dropna(subset=assembler_inputs + [\"CANCELLED\"])\n",
        "\n",
        "df_prepared_clean.select(\"features\", \"CANCELLED\").show(5, truncate=False)"
      ]
    },
    {
      "cell_type": "code",
      "execution_count": 20,
      "metadata": {
        "colab": {
          "base_uri": "https://localhost:8080/"
        },
        "id": "A_TXRcvzoKEC",
        "outputId": "ca8f5ebb-322c-4099-9000-37684b1e549a"
      },
      "outputs": [
        {
          "name": "stdout",
          "output_type": "stream",
          "text": [
            "+-------+----------------+------------+------------+\n",
            "|summary|CRS_ELAPSED_TIME|CRS_DEP_TIME|CRS_ARR_TIME|\n",
            "+-------+----------------+------------+------------+\n",
            "|  count|            7698|        7698|        7698|\n",
            "+-------+----------------+------------+------------+\n",
            "\n"
          ]
        }
      ],
      "source": [
        "df2009_cleaned.filter(\"CANCELLED = 1.0\").select(\"CRS_ELAPSED_TIME\", \"CRS_DEP_TIME\", \"CRS_ARR_TIME\").summary(\"count\").show()"
      ]
    },
    {
      "cell_type": "code",
      "execution_count": 21,
      "metadata": {
        "colab": {
          "base_uri": "https://localhost:8080/"
        },
        "id": "ffcintn5nhD6",
        "outputId": "29f5951e-fa02-4049-d256-04edcc95a216"
      },
      "outputs": [
        {
          "name": "stdout",
          "output_type": "stream",
          "text": [
            "+-------+----------------+------------+------------+\n",
            "|summary|CRS_ELAPSED_TIME|CRS_DEP_TIME|CRS_ARR_TIME|\n",
            "+-------+----------------+------------+------------+\n",
            "|  count|            7698|        7698|        7698|\n",
            "+-------+----------------+------------+------------+\n",
            "\n"
          ]
        }
      ],
      "source": [
        "df_prepared.filter(\"CANCELLED = 1.0\").select(*assembler_inputs).summary(\"count\").show()"
      ]
    },
    {
      "cell_type": "code",
      "execution_count": 22,
      "metadata": {
        "colab": {
          "base_uri": "https://localhost:8080/"
        },
        "id": "3fOEwBXJkeH7",
        "outputId": "fea96fc1-0bc3-4155-be13-f2fcf2e2587a"
      },
      "outputs": [
        {
          "name": "stdout",
          "output_type": "stream",
          "text": [
            "+---------+------+\n",
            "|CANCELLED| count|\n",
            "+---------+------+\n",
            "|      0.0|390415|\n",
            "|      1.0|  7698|\n",
            "+---------+------+\n",
            "\n"
          ]
        }
      ],
      "source": [
        "df_prepared_clean.groupBy(\"CANCELLED\").count().show()"
      ]
    },
    {
      "cell_type": "code",
      "execution_count": 51,
      "metadata": {
        "id": "sG0_gASp4Vb2"
      },
      "outputs": [],
      "source": [
        "#seda osa pole enam vaja tegelt võib ära kustutada\n",
        "\n",
        "from pyspark.ml.feature import StringIndexer, OneHotEncoder, VectorAssembler\n",
        "from pyspark.ml import Pipeline\n",
        "\n",
        "\n",
        "cat_cols = [\"UniqueCarrier\", \"ORIGIN\", \"DEST\"]\n",
        "indexers = [StringIndexer(inputCol=col, outputCol=col + \"_Index\") for col in cat_cols]\n",
        "encoders = [OneHotEncoder(inputCol=col + \"_Index\", outputCol=col + \"_Vec\") for col in cat_cols]\n",
        "\n",
        "\n",
        "num_cols = [\"DEP_DELAY\", \"ARR_DELAY\", \"CRS_ELAPSED_TIME\"]\n",
        "\n",
        "\n",
        "assembler_inputs = [col + \"_Vec\" for col in cat_cols] + num_cols\n",
        "assembler = VectorAssembler(inputCols=assembler_inputs, outputCol=\"features\")\n",
        "\n",
        "\n",
        "# Pipeline\n",
        "pipeline = Pipeline(stages=indexers + encoders + [assembler])\n",
        "pipeline_model = pipeline.fit(df2009_cleaned)\n",
        "df_prepared = pipeline_model.transform(df2009_cleaned)\n",
        "\n",
        "\n",
        "df_prepared.select(\"features\", \"CANCELLED\").show(5, truncate=False)\n"
      ]
    },
    {
      "cell_type": "code",
      "execution_count": 23,
      "metadata": {
        "colab": {
          "base_uri": "https://localhost:8080/"
        },
        "id": "SOZh_a9zROyo",
        "outputId": "fdbf8885-51b9-40b5-d733-a11d62131366"
      },
      "outputs": [
        {
          "name": "stdout",
          "output_type": "stream",
          "text": [
            "+----------+-------------+-------------------------+------+----+------------+--------+---------+--------+----------+---------+-------+------------+--------+---------+---------+-----------------+--------+----------------+-------------------+--------+--------+-------------+-------------+---------+--------------+-------------------+-----+---------+-------------------+------------+----------+-----------------+----------------+----------------+--------------------+\n",
            "|   FL_DATE|UniqueCarrier|UniqueCarrierFlightNumber|ORIGIN|DEST|CRS_DEP_TIME|DEP_TIME|DEP_DELAY|TAXI_OUT|WHEELS_OFF|WHEELS_ON|TAXI_IN|CRS_ARR_TIME|ARR_TIME|ARR_DELAY|CANCELLED|CANCELLATION_CODE|DIVERTED|CRS_ELAPSED_TIME|ACTUAL_ELAPSED_TIME|AIR_TIME|DISTANCE|CARRIER_DELAY|WEATHER_DELAY|NAS_DELAY|SECURITY_DELAY|LATE_AIRCRAFT_DELAY|Month|DayOfWeek|UniqueCarrier_Index|ORIGIN_Index|DEST_Index|UniqueCarrier_Vec|      ORIGIN_Vec|        DEST_Vec|            features|\n",
            "+----------+-------------+-------------------------+------+----+------------+--------+---------+--------+----------+---------+-------+------------+--------+---------+---------+-----------------+--------+----------------+-------------------+--------+--------+-------------+-------------+---------+--------------+-------------------+-----+---------+-------------------+------------+----------+-----------------+----------------+----------------+--------------------+\n",
            "|2009-01-01|           XE|                     1204|   DCA| EWR|        1100|  1058.0|     -2.0|    18.0|    1116.0|   1158.0|    8.0|        1202|  1206.0|      4.0|      0.0|             NULL|     0.0|            62.0|               68.0|    42.0|   199.0|         NULL|         NULL|     NULL|          NULL|               NULL|    1|        5|                7.0|        21.0|      12.0|   (20,[7],[1.0])|(280,[21],[1.0])|(280,[12],[1.0])|(583,[7,41,312,58...|\n",
            "|2009-01-01|           XE|                     1206|   EWR| IAD|        1510|  1509.0|     -1.0|    28.0|    1537.0|   1620.0|    4.0|        1632|  1624.0|     -8.0|      0.0|             NULL|     0.0|            82.0|               75.0|    43.0|   213.0|         NULL|         NULL|     NULL|          NULL|               NULL|    1|        5|                7.0|        12.0|      28.0|   (20,[7],[1.0])|(280,[12],[1.0])|(280,[28],[1.0])|(583,[7,32,328,58...|\n",
            "|2009-01-01|           XE|                     1207|   EWR| DCA|        1100|  1059.0|     -1.0|    20.0|    1119.0|   1155.0|    6.0|        1210|  1201.0|     -9.0|      0.0|             NULL|     0.0|            70.0|               62.0|    36.0|   199.0|         NULL|         NULL|     NULL|          NULL|               NULL|    1|        5|                7.0|        12.0|      21.0|   (20,[7],[1.0])|(280,[12],[1.0])|(280,[21],[1.0])|(583,[7,32,321,58...|\n",
            "|2009-01-01|           XE|                     1208|   DCA| EWR|        1240|  1249.0|      9.0|    10.0|    1259.0|   1336.0|    9.0|        1357|  1345.0|    -12.0|      0.0|             NULL|     0.0|            77.0|               56.0|    37.0|   199.0|         NULL|         NULL|     NULL|          NULL|               NULL|    1|        5|                7.0|        21.0|      12.0|   (20,[7],[1.0])|(280,[21],[1.0])|(280,[12],[1.0])|(583,[7,41,312,58...|\n",
            "|2009-01-01|           XE|                     1209|   IAD| EWR|        1715|  1705.0|    -10.0|    24.0|    1729.0|   1809.0|   13.0|        1900|  1822.0|    -38.0|      0.0|             NULL|     0.0|           105.0|               77.0|    40.0|   213.0|         NULL|         NULL|     NULL|          NULL|               NULL|    1|        5|                7.0|        28.0|      12.0|   (20,[7],[1.0])|(280,[28],[1.0])|(280,[12],[1.0])|(583,[7,48,312,58...|\n",
            "|2009-01-01|           XE|                     1212|   ATL| EWR|        1915|  1913.0|     -2.0|    19.0|    1932.0|   2108.0|   15.0|        2142|  2123.0|    -19.0|      0.0|             NULL|     0.0|           147.0|              130.0|    96.0|   745.0|         NULL|         NULL|     NULL|          NULL|               NULL|    1|        5|                7.0|         0.0|      12.0|   (20,[7],[1.0])| (280,[0],[1.0])|(280,[12],[1.0])|(583,[7,20,312,58...|\n",
            "|2009-01-01|           XE|                     1212|   CLE| ATL|        1645|  1637.0|     -8.0|    12.0|    1649.0|   1820.0|    5.0|        1842|  1825.0|    -17.0|      0.0|             NULL|     0.0|           117.0|              108.0|    91.0|   554.0|         NULL|         NULL|     NULL|          NULL|               NULL|    1|        5|                7.0|        34.0|       0.0|   (20,[7],[1.0])|(280,[34],[1.0])| (280,[0],[1.0])|(583,[7,54,300,58...|\n",
            "|2009-01-01|           XE|                     1214|   DCA| EWR|        1915|  1908.0|     -7.0|     9.0|    1917.0|   1953.0|   34.0|        2035|  2027.0|     -8.0|      0.0|             NULL|     0.0|            80.0|               79.0|    36.0|   199.0|         NULL|         NULL|     NULL|          NULL|               NULL|    1|        5|                7.0|        21.0|      12.0|   (20,[7],[1.0])|(280,[21],[1.0])|(280,[12],[1.0])|(583,[7,41,312,58...|\n",
            "|2009-01-01|           XE|                     1215|   EWR| DCA|        1715|  1710.0|     -5.0|    28.0|    1738.0|   1819.0|    4.0|        1838|  1823.0|    -15.0|      0.0|             NULL|     0.0|            83.0|               73.0|    41.0|   199.0|         NULL|         NULL|     NULL|          NULL|               NULL|    1|        5|                7.0|        12.0|      21.0|   (20,[7],[1.0])|(280,[12],[1.0])|(280,[21],[1.0])|(583,[7,32,321,58...|\n",
            "|2009-01-01|           XE|                     1217|   EWR| DCA|        1300|  1255.0|     -5.0|    15.0|    1310.0|   1349.0|    7.0|        1408|  1356.0|    -12.0|      0.0|             NULL|     0.0|            68.0|               61.0|    39.0|   199.0|         NULL|         NULL|     NULL|          NULL|               NULL|    1|        5|                7.0|        12.0|      21.0|   (20,[7],[1.0])|(280,[12],[1.0])|(280,[21],[1.0])|(583,[7,32,321,58...|\n",
            "|2009-01-01|           XE|                     1218|   DCA| EWR|        1500|  1457.0|     -3.0|    14.0|    1511.0|   1552.0|    7.0|        1620|  1559.0|    -21.0|      0.0|             NULL|     0.0|            80.0|               62.0|    41.0|   199.0|         NULL|         NULL|     NULL|          NULL|               NULL|    1|        5|                7.0|        21.0|      12.0|   (20,[7],[1.0])|(280,[21],[1.0])|(280,[12],[1.0])|(583,[7,41,312,58...|\n",
            "|2009-01-01|           XE|                     1219|   EWR| DCA|        2135|  2131.0|     -4.0|    21.0|    2152.0|   2232.0|    3.0|        2252|  2235.0|    -17.0|      0.0|             NULL|     0.0|            77.0|               64.0|    40.0|   199.0|         NULL|         NULL|     NULL|          NULL|               NULL|    1|        5|                7.0|        12.0|      21.0|   (20,[7],[1.0])|(280,[12],[1.0])|(280,[21],[1.0])|(583,[7,32,321,58...|\n",
            "|2009-01-01|           XE|                     1220|   CLE| DCA|        1905|  1855.0|    -10.0|    10.0|    1905.0|   1956.0|    5.0|        2025|  2001.0|    -24.0|      0.0|             NULL|     0.0|            80.0|               66.0|    51.0|   310.0|         NULL|         NULL|     NULL|          NULL|               NULL|    1|        5|                7.0|        34.0|      21.0|   (20,[7],[1.0])|(280,[34],[1.0])|(280,[21],[1.0])|(583,[7,54,321,58...|\n",
            "|2009-01-01|           XE|                     1220|   DCA| EWR|        2100|  2049.0|    -11.0|    10.0|    2059.0|   2133.0|   10.0|        2217|  2143.0|    -34.0|      0.0|             NULL|     0.0|            77.0|               54.0|    34.0|   199.0|         NULL|         NULL|     NULL|          NULL|               NULL|    1|        5|                7.0|        21.0|      12.0|   (20,[7],[1.0])|(280,[21],[1.0])|(280,[12],[1.0])|(583,[7,41,312,58...|\n",
            "|2009-01-01|           XE|                     1232|   ORD| EWR|         905|   900.0|     -5.0|    16.0|     916.0|   1144.0|    6.0|        1212|  1150.0|    -22.0|      0.0|             NULL|     0.0|           127.0|              110.0|    88.0|   719.0|         NULL|         NULL|     NULL|          NULL|               NULL|    1|        5|                7.0|         1.0|      12.0|   (20,[7],[1.0])| (280,[1],[1.0])|(280,[12],[1.0])|(583,[7,21,312,58...|\n",
            "|2009-01-01|           XE|                     1233|   EWR| ORD|        1000|  1035.0|     35.0|    14.0|    1049.0|   1156.0|   10.0|        1139|  1206.0|     27.0|      0.0|             NULL|     0.0|           159.0|              151.0|   127.0|   719.0|          0.0|         27.0|      0.0|           0.0|                0.0|    1|        5|                7.0|        12.0|       1.0|   (20,[7],[1.0])|(280,[12],[1.0])| (280,[1],[1.0])|(583,[7,32,301,58...|\n",
            "|2009-01-01|           XE|                     1234|   ORD| EWR|        1230|  1234.0|      4.0|     8.0|    1242.0|   1511.0|   14.0|        1559|  1525.0|    -34.0|      0.0|             NULL|     0.0|           149.0|              111.0|    89.0|   719.0|         NULL|         NULL|     NULL|          NULL|               NULL|    1|        5|                7.0|         1.0|      12.0|   (20,[7],[1.0])| (280,[1],[1.0])|(280,[12],[1.0])|(583,[7,21,312,58...|\n",
            "|2009-01-01|           XE|                     1235|   EWR| ORD|        1343|  1406.0|     23.0|    13.0|    1419.0|   1523.0|    7.0|        1523|  1530.0|      7.0|      0.0|             NULL|     0.0|           160.0|              144.0|   124.0|   719.0|         NULL|         NULL|     NULL|          NULL|               NULL|    1|        5|                7.0|        12.0|       1.0|   (20,[7],[1.0])|(280,[12],[1.0])| (280,[1],[1.0])|(583,[7,32,301,58...|\n",
            "|2009-01-01|           XE|                     1236|   ORD| EWR|        1630|  1619.0|    -11.0|    19.0|    1638.0|   1906.0|   35.0|        2002|  1941.0|    -21.0|      0.0|             NULL|     0.0|           152.0|              142.0|    88.0|   719.0|         NULL|         NULL|     NULL|          NULL|               NULL|    1|        5|                7.0|         1.0|      12.0|   (20,[7],[1.0])| (280,[1],[1.0])|(280,[12],[1.0])|(583,[7,21,312,58...|\n",
            "|2009-01-01|           XE|                     1237|   EWR| ORD|        1930|  1927.0|     -3.0|    16.0|    1943.0|   2049.0|    8.0|        2123|  2057.0|    -26.0|      0.0|             NULL|     0.0|           173.0|              150.0|   126.0|   719.0|         NULL|         NULL|     NULL|          NULL|               NULL|    1|        5|                7.0|        12.0|       1.0|   (20,[7],[1.0])|(280,[12],[1.0])| (280,[1],[1.0])|(583,[7,32,301,58...|\n",
            "+----------+-------------+-------------------------+------+----+------------+--------+---------+--------+----------+---------+-------+------------+--------+---------+---------+-----------------+--------+----------------+-------------------+--------+--------+-------------+-------------+---------+--------------+-------------------+-----+---------+-------------------+------------+----------+-----------------+----------------+----------------+--------------------+\n",
            "only showing top 20 rows\n",
            "\n"
          ]
        }
      ],
      "source": [
        "df_prepared.describe()\n",
        "df_prepared.show()"
      ]
    },
    {
      "cell_type": "markdown",
      "metadata": {
        "id": "CmpTZJtF7JaZ"
      },
      "source": [
        "### 5. Modeling"
      ]
    },
    {
      "cell_type": "code",
      "execution_count": 24,
      "metadata": {
        "id": "faRQMkuZqiI1"
      },
      "outputs": [],
      "source": [
        "#5 modeling eidi\n",
        "from pyspark.ml.classification import LogisticRegression, DecisionTreeClassifier, RandomForestClassifier, GBTClassifier\n",
        "from pyspark.ml.evaluation import BinaryClassificationEvaluator, MulticlassClassificationEvaluator\n",
        "from pyspark.ml.tuning import CrossValidator, ParamGridBuilder\n",
        "\n",
        "# Split the data into train and test sets\n",
        "train_data, test_data = df_prepared.randomSplit([0.7, 0.3], seed=42)\n",
        "\n",
        "#defining models\n",
        "# Logistic Regression\n",
        "lr = LogisticRegression(labelCol=\"CANCELLED\", featuresCol=\"features\")\n",
        "\n",
        "# Decision Tree Classifier\n",
        "dt = DecisionTreeClassifier(labelCol=\"CANCELLED\", featuresCol=\"features\")\n",
        "\n",
        "# Random Forest Classifier\n",
        "rf = RandomForestClassifier(labelCol=\"CANCELLED\", featuresCol=\"features\")\n",
        "\n",
        "# Gradient-Boosted Tree Classifier\n",
        "gbt = GBTClassifier(labelCol=\"CANCELLED\", featuresCol=\"features\")"
      ]
    },
    {
      "cell_type": "code",
      "execution_count": 25,
      "metadata": {
        "id": "LUgwDIN6qnqr"
      },
      "outputs": [],
      "source": [
        "# 3.evaluators eidi\n",
        "evaluator_auc = BinaryClassificationEvaluator(labelCol=\"CANCELLED\", metricName=\"areaUnderROC\")\n",
        "evaluator_acc = MulticlassClassificationEvaluator(labelCol=\"CANCELLED\", metricName=\"accuracy\")"
      ]
    },
    {
      "cell_type": "code",
      "execution_count": 26,
      "metadata": {
        "id": "OCJIPaz3quAL"
      },
      "outputs": [],
      "source": [
        "# 4. Define parameter grids eidi\n",
        "lr_grid = ParamGridBuilder().addGrid(lr.maxIter, [10, 50]).build()\n",
        "dt_grid = ParamGridBuilder().addGrid(dt.maxDepth, [5, 10]).build()\n",
        "rf_grid = ParamGridBuilder().addGrid(rf.numTrees, [10, 50]).build()\n",
        "gbt_grid = ParamGridBuilder().addGrid(gbt.maxIter, [10, 50]).build()"
      ]
    },
    {
      "cell_type": "code",
      "execution_count": 27,
      "metadata": {
        "id": "rpmM6-M0q2tp"
      },
      "outputs": [],
      "source": [
        "# 5. CrossValidators eidi\n",
        "cv_lr = CrossValidator(estimator=lr, estimatorParamMaps=lr_grid, evaluator=evaluator_auc, numFolds=3)\n",
        "cv_dt = CrossValidator(estimator=dt, estimatorParamMaps=dt_grid, evaluator=evaluator_auc, numFolds=3)\n",
        "cv_rf = CrossValidator(estimator=rf, estimatorParamMaps=rf_grid, evaluator=evaluator_auc, numFolds=3)\n",
        "cv_gbt = CrossValidator(estimator=gbt, estimatorParamMaps=gbt_grid, evaluator=evaluator_auc, numFolds=3)"
      ]
    },
    {
      "cell_type": "code",
      "execution_count": 28,
      "metadata": {
        "id": "MHmoGI_gq6cF"
      },
      "outputs": [],
      "source": [
        "# 6. Train models eidi\n",
        "lr_model = cv_lr.fit(train_data)\n",
        "dt_model = cv_dt.fit(train_data)\n",
        "rf_model = cv_rf.fit(train_data)\n",
        "gbt_model = cv_gbt.fit(train_data)"
      ]
    },
    {
      "cell_type": "code",
      "execution_count": 29,
      "metadata": {
        "id": "Kfnat34Xq_Gu"
      },
      "outputs": [],
      "source": [
        "# 7. predictions eidi\n",
        "lr_pred = lr_model.transform(test_data)\n",
        "dt_pred = dt_model.transform(test_data)\n",
        "rf_pred = rf_model.transform(test_data)\n",
        "gbt_pred = gbt_model.transform(test_data)"
      ]
    },
    {
      "cell_type": "code",
      "execution_count": 30,
      "metadata": {
        "colab": {
          "base_uri": "https://localhost:8080/"
        },
        "id": "DqBg_X9ludkE",
        "outputId": "c452c8e3-da90-4657-f21d-3b02e91f0f46"
      },
      "outputs": [
        {
          "name": "stdout",
          "output_type": "stream",
          "text": [
            "Logistic Regression — Accuracy: 0.9802, AUC: 0.7467\n",
            "Decision Tree — Accuracy: 0.9801, AUC: 0.4336\n",
            "Random Forest — Accuracy: 0.9802, AUC: 0.6384\n",
            "Gradient Boosted Trees — Accuracy: 0.9802, AUC: 0.7131\n",
            "                    Model  Accuracy       AUC\n",
            "0     Logistic Regression  0.980154  0.746740\n",
            "1           Decision Tree  0.980112  0.433576\n",
            "2           Random Forest  0.980196  0.638445\n",
            "3  Gradient Boosted Trees  0.980188  0.713094\n"
          ]
        }
      ],
      "source": [
        "# 8. Evaluate eidi\n",
        "results = []\n",
        "\n",
        "def evaluate_model(name, predictions):\n",
        "    accuracy = evaluator_acc.evaluate(predictions)\n",
        "    auc = evaluator_auc.evaluate(predictions)\n",
        "    results.append({\"Model\": name, \"Accuracy\": accuracy, \"AUC\": auc})\n",
        "    print(f\"{name} — Accuracy: {accuracy:.4f}, AUC: {auc:.4f}\")\n",
        "\n",
        "evaluate_model(\"Logistic Regression\", lr_pred)\n",
        "evaluate_model(\"Decision Tree\", dt_pred)\n",
        "evaluate_model(\"Random Forest\", rf_pred)\n",
        "evaluate_model(\"Gradient Boosted Trees\", gbt_pred)\n",
        "\n",
        "import pandas as pd\n",
        "results_df = pd.DataFrame(results)\n",
        "print(results_df)"
      ]
    },
    {
      "cell_type": "markdown",
      "metadata": {
        "id": "AIQLprNO7Jaa"
      },
      "source": [
        "### 6. Explainability"
      ]
    },
    {
      "cell_type": "code",
      "execution_count": 38,
      "metadata": {
        "id": "10xLI-ve5swV"
      },
      "outputs": [],
      "source": [
        "# AUC mõhjal on log reg parim\n",
        "best_tree_model = gbt_model.bestModel  # või gbt\n",
        "importances = best_tree_model.featureImportances"
      ]
    },
    {
      "cell_type": "code",
      "execution_count": 32,
      "metadata": {
        "id": "13AO4feO53xx"
      },
      "outputs": [],
      "source": [
        "feature_names = assembler.getInputCols()"
      ]
    },
    {
      "cell_type": "code",
      "execution_count": 33,
      "metadata": {
        "id": "dqaAK6Pa560_"
      },
      "outputs": [],
      "source": [
        "feature_importance_list = list(zip(feature_names, importances))\n",
        "sorted_features = sorted(feature_importance_list, key=lambda x: x[1], reverse=True)"
      ]
    },
    {
      "cell_type": "code",
      "execution_count": 49,
      "metadata": {
        "colab": {
          "base_uri": "https://localhost:8080/",
          "height": 507
        },
        "id": "RP12Rv8X59ot",
        "outputId": "702ba0e0-1c6c-4e19-f1d7-7534736055c8"
      },
      "outputs": [
        {
          "data": {
            "image/png": "[encoded data removed]",
            "text/plain": [
              "<Figure size 800x500 with 1 Axes>"
            ]
          },
          "metadata": {},
          "output_type": "display_data"
        }
      ],
      "source": [
        "import matplotlib.pyplot as plt\n",
        "\n",
        "top_k = 5\n",
        "top_features = sorted_features[:top_k]\n",
        "\n",
        "names = [f[0] for f in top_features]\n",
        "scores = [f[1] for f in top_features]\n",
        "\n",
        "plt.figure(figsize=(8, 5))\n",
        "plt.barh(names[::-1], scores[::-1])\n",
        "plt.xlabel(\"Feature Importance\")\n",
        "plt.title(\"Top Feature Importances (Tree-based Model)\")\n",
        "plt.tight_layout()\n",
        "plt.show()"
      ]
    },
    {
      "cell_type": "markdown",
      "metadata": {
        "id": "nY_DCXyK7Jah"
      },
      "source": [
        "### 7. Model Persistence and Inference"
      ]
    },
    {
      "cell_type": "code",
      "execution_count": 50,
      "metadata": {
        "id": "ZZQ1PvwKqiY7"
      },
      "outputs": [],
      "source": [
        "# 8. Loo täispipeline (feature pipeline + parim mudel)\n",
        "full_pipeline = Pipeline(stages=pipeline_model.stages + [lr_model.bestModel])\n",
        "full_pipeline_model = full_pipeline.fit(df2009_cleaned)\n",
        "\n",
        "# 9. Salvesta täispipeline (model + feature transformid)\n",
        "full_pipeline_model.write().overwrite().save(\"model/bestModel\")"
      ]
    },
    {
      "cell_type": "code",
      "execution_count": 51,
      "metadata": {
        "colab": {
          "base_uri": "https://localhost:8080/"
        },
        "id": "ngAV4fWEqanX",
        "outputId": "ecf106dd-bd1c-4710-b498-dcc09c1a8bf4"
      },
      "outputs": [
        {
          "name": "stdout",
          "output_type": "stream",
          "text": [
            "+----------+-------------+------+----+----------+-----------------------------------------+\n",
            "|FL_DATE   |UniqueCarrier|ORIGIN|DEST|prediction|probability                              |\n",
            "+----------+-------------+------+----+----------+-----------------------------------------+\n",
            "|2010-01-01|MQ           |LGA   |RDU |0.0       |[0.9483567518363261,0.05164324816367394] |\n",
            "|2010-01-01|MQ           |DCA   |JFK |0.0       |[0.9654440185125537,0.03455598148744632] |\n",
            "|2010-01-01|MQ           |LGA   |RDU |0.0       |[0.9487387266563063,0.05126127334369368] |\n",
            "|2010-01-01|MQ           |RDU   |LGA |0.0       |[0.9412965754278627,0.058703424572137286]|\n",
            "|2010-01-01|MQ           |JFK   |DCA |0.0       |[0.9628903077709916,0.037109692229008395]|\n",
            "|2010-01-01|MQ           |DCA   |JFK |0.0       |[0.9651078244876456,0.03489217551235435] |\n",
            "|2010-01-01|MQ           |RDU   |LGA |0.0       |[0.9420405100571779,0.05795948994282207] |\n",
            "|2010-01-01|MQ           |DCA   |JFK |0.0       |[0.9671711537300101,0.03282884626998994] |\n",
            "|2010-01-01|MQ           |DCA   |JFK |0.0       |[0.967945050857446,0.03205494914255402]  |\n",
            "|2010-01-01|MQ           |JFK   |DCA |0.0       |[0.963827072752645,0.03617292724735499]  |\n",
            "+----------+-------------+------+----+----------+-----------------------------------------+\n",
            "only showing top 10 rows\n",
            "\n"
          ]
        }
      ],
      "source": [
        "# = 2010 SCORING =\n",
        "\n",
        "df2010 = spark.read.option(\"header\", True).option(\"inferSchema\", True).csv(\"input/2010.csv\")\n",
        "\n",
        "df2010 = df2010.withColumnRenamed(\"OP_CARRIER\", \"UniqueCarrier\") \\\n",
        "               .withColumnRenamed(\"OP_CARRIER_FL_NUM\", \"UniqueCarrierFlightNumber\") \\\n",
        "               .withColumn(\"Month\", month(\"FL_DATE\")) \\\n",
        "               .withColumn(\"DayOfWeek\", dayofweek(\"FL_DATE\"))\n",
        "\n",
        "df2010_cleaned = df2010.filter(col(\"DIVERTED\") == 0.0) \\\n",
        "                       .dropna(subset=[\"FL_DATE\", \"UniqueCarrier\", \"CRS_ELAPSED_TIME\"])\n",
        "\n",
        "# 11. Lae salvestatud pipeline koos mudeliga\n",
        "loaded_model = PipelineModel.load(\"model/bestModel\")\n",
        "\n",
        "# 12. Tee ennustused 2010 andmetele\n",
        "predictions_2010 = loaded_model.transform(df2010_cleaned)\n",
        "\n",
        "# 13. Kuva tulemused\n",
        "predictions_2010.select(\"FL_DATE\", \"UniqueCarrier\", \"ORIGIN\", \"DEST\", \"prediction\", \"probability\").show(10, truncate=False)"
      ]
    }
  ],
  "metadata": {
    "application/vnd.databricks.v1+notebook": {
      "dashboards": [],
      "language": "python",
      "notebookMetadata": {
        "pythonIndentUnit": 2
      },
      "notebookName": "Practice session - Dataframe",
      "notebookOrigID": 1061204080530756,
      "widgets": {}
    },
    "colab": {
      "gpuType": "T4",
      "provenance": []
    },
    "kernelspec": {
      "display_name": "Python 3 (ipykernel)",
      "language": "python",
      "name": "python3"
    },
    "language_info": {
      "codemirror_mode": {
        "name": "ipython",
        "version": 3
      },
      "file_extension": ".py",
      "mimetype": "text/x-python",
      "name": "python",
      "nbconvert_exporter": "python",
      "pygments_lexer": "ipython3",
      "version": "3.11.10"
    }
  },
  "nbformat": 4,
  "nbformat_minor": 0
}
