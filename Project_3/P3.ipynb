{
 "cells": [
  {
   "cell_type": "markdown",
   "metadata": {
    "id": "E1w9AYcq5R1L"
   },
   "source": [
    "# Big Data Management Project 3:\n",
    "## Analysing Flight Interconnected Data\n"
   ]
  },
  {
   "cell_type": "markdown",
   "metadata": {},
   "source": [
    "### Imports and setup"
   ]
  },
  {
   "cell_type": "code",
   "execution_count": 1,
   "metadata": {},
   "outputs": [
    {
     "name": "stdout",
     "output_type": "stream",
     "text": [
      "Requirement already satisfied: delta-spark in /opt/conda/lib/python3.11/site-packages (3.3.0)\n",
      "Requirement already satisfied: pyspark<3.6.0,>=3.5.3 in /usr/local/spark/python (from delta-spark) (3.5.3)\n",
      "Requirement already satisfied: importlib-metadata>=1.0.0 in /opt/conda/lib/python3.11/site-packages (from delta-spark) (8.5.0)\n",
      "Requirement already satisfied: zipp>=3.20 in /opt/conda/lib/python3.11/site-packages (from importlib-metadata>=1.0.0->delta-spark) (3.20.2)\n",
      "Requirement already satisfied: py4j==0.10.9.7 in /opt/conda/lib/python3.11/site-packages (from pyspark<3.6.0,>=3.5.3->delta-spark) (0.10.9.7)\n",
      "Requirement already satisfied: graphframes in /opt/conda/lib/python3.11/site-packages (0.6)\n",
      "Requirement already satisfied: numpy in /opt/conda/lib/python3.11/site-packages (from graphframes) (1.26.4)\n",
      "Requirement already satisfied: nose in /opt/conda/lib/python3.11/site-packages (from graphframes) (1.3.7)\n"
     ]
    }
   ],
   "source": [
    "import pyspark\n",
    "!pip install delta-spark\n",
    "from delta import configure_spark_with_delta_pip\n",
    "\n",
    "!pip install graphframes\n",
    "import pyspark.sql.functions as F\n",
    "from pyspark.sql.types import StructType, StructField, StringType\n",
    "\n",
    "# 🔧 Spark Session with GraphFrames\n",
    "builder = pyspark.sql.SparkSession.builder.appName(\"FlightGraphAnalysis\") \\\n",
    "    .config(\"spark.sql.extensions\", \"io.delta.sql.DeltaSparkSessionExtension\") \\\n",
    "    .config(\"spark.sql.catalog.spark_catalog\", \"org.apache.spark.sql.delta.catalog.DeltaCatalog\") \\\n",
    "    .config(\"spark.driver.memory\", \"8g\") \n",
    "\n",
    "spark = configure_spark_with_delta_pip(\n",
    "    builder, extra_packages=[\"graphframes:graphframes:0.8.4-spark3.5-s_2.12\"]\n",
    ").getOrCreate()\n",
    "\n",
    "spark.conf.set(\"spark.sql.shuffle.partitions\", spark._sc.defaultParallelism)\n",
    "spark.conf.set(\"spark.sql.repl.eagerEval.enabled\", True)\n",
    "spark.conf.set(\"spark.sql.repl.eagerEval.truncate\", 100)\n",
    "\n",
    "import graphframes as gf # Import the module after installing"
   ]
  },
  {
   "cell_type": "markdown",
   "metadata": {},
   "source": [
    "### Data selection"
   ]
  },
  {
   "cell_type": "code",
   "execution_count": 2,
   "metadata": {},
   "outputs": [
    {
     "name": "stdout",
     "output_type": "stream",
     "text": [
      "+------+----+----------+--------+\n",
      "|ORIGIN|DEST|   FL_DATE|DISTANCE|\n",
      "+------+----+----------+--------+\n",
      "|   DCA| EWR|2009-01-01|   199.0|\n",
      "|   EWR| IAD|2009-01-01|   213.0|\n",
      "|   EWR| DCA|2009-01-01|   199.0|\n",
      "|   DCA| EWR|2009-01-01|   199.0|\n",
      "|   IAD| EWR|2009-01-01|   213.0|\n",
      "|   ATL| EWR|2009-01-01|   745.0|\n",
      "|   CLE| ATL|2009-01-01|   554.0|\n",
      "|   DCA| EWR|2009-01-01|   199.0|\n",
      "|   EWR| DCA|2009-01-01|   199.0|\n",
      "|   EWR| DCA|2009-01-01|   199.0|\n",
      "|   DCA| EWR|2009-01-01|   199.0|\n",
      "|   EWR| DCA|2009-01-01|   199.0|\n",
      "|   CLE| DCA|2009-01-01|   310.0|\n",
      "|   DCA| EWR|2009-01-01|   199.0|\n",
      "|   ORD| EWR|2009-01-01|   719.0|\n",
      "|   EWR| ORD|2009-01-01|   719.0|\n",
      "|   ORD| EWR|2009-01-01|   719.0|\n",
      "|   EWR| ORD|2009-01-01|   719.0|\n",
      "|   ORD| EWR|2009-01-01|   719.0|\n",
      "|   EWR| ORD|2009-01-01|   719.0|\n",
      "+------+----+----------+--------+\n",
      "\n"
     ]
    }
   ],
   "source": [
    "df = (spark.read\n",
    "      .option(\"header\", \"true\")\n",
    "      .option(\"inferSchema\", \"true\")\n",
    "      .csv(\"input/2009.csv\")\n",
    "      .select(\"ORIGIN\", \"DEST\", \"FL_DATE\", \"DISTANCE\"))  # selection\n",
    "\n",
    "df.limit(20).show()"
   ]
  },
  {
   "cell_type": "markdown",
   "metadata": {},
   "source": [
    "### Graph\n",
    "#### Verticles - airports\n",
    "#### Edges - flights"
   ]
  },
  {
   "cell_type": "code",
   "execution_count": 3,
   "metadata": {},
   "outputs": [
    {
     "name": "stdout",
     "output_type": "stream",
     "text": [
      "Airports total: 296\n",
      "Flights total: 6429338\n",
      "GraphFrame(v:[id: string], e:[src: string, dst: string])\n",
      "The airports from data: \n"
     ]
    },
    {
     "data": {
      "text/html": [
       "<table border='1'>\n",
       "<tr><th>id</th></tr>\n",
       "<tr><td>GRR</td></tr>\n",
       "<tr><td>MFE</td></tr>\n",
       "<tr><td>DAL</td></tr>\n",
       "<tr><td>ICT</td></tr>\n",
       "<tr><td>AVL</td></tr>\n",
       "<tr><td>PBI</td></tr>\n",
       "<tr><td>XNA</td></tr>\n",
       "<tr><td>BFL</td></tr>\n",
       "<tr><td>JFK</td></tr>\n",
       "<tr><td>LGB</td></tr>\n",
       "<tr><td>MRY</td></tr>\n",
       "<tr><td>SNA</td></tr>\n",
       "<tr><td>MDW</td></tr>\n",
       "<tr><td>AZO</td></tr>\n",
       "<tr><td>RDD</td></tr>\n",
       "<tr><td>CAK</td></tr>\n",
       "<tr><td>EKO</td></tr>\n",
       "<tr><td>PIH</td></tr>\n",
       "<tr><td>ANC</td></tr>\n",
       "<tr><td>MYR</td></tr>\n",
       "</table>\n",
       "only showing top 20 rows\n"
      ],
      "text/plain": [
       "+---+\n",
       "| id|\n",
       "+---+\n",
       "|GRR|\n",
       "|MFE|\n",
       "|DAL|\n",
       "|ICT|\n",
       "|AVL|\n",
       "|PBI|\n",
       "|XNA|\n",
       "|BFL|\n",
       "|JFK|\n",
       "|LGB|\n",
       "|MRY|\n",
       "|SNA|\n",
       "|MDW|\n",
       "|AZO|\n",
       "|RDD|\n",
       "|CAK|\n",
       "|EKO|\n",
       "|PIH|\n",
       "|ANC|\n",
       "|MYR|\n",
       "+---+\n",
       "only showing top 20 rows"
      ]
     },
     "metadata": {},
     "output_type": "display_data"
    },
    {
     "name": "stdout",
     "output_type": "stream",
     "text": [
      "The flights between airports from data: \n"
     ]
    },
    {
     "data": {
      "text/html": [
       "<table border='1'>\n",
       "<tr><th>src</th><th>dst</th></tr>\n",
       "<tr><td>DCA</td><td>EWR</td></tr>\n",
       "<tr><td>EWR</td><td>IAD</td></tr>\n",
       "<tr><td>EWR</td><td>DCA</td></tr>\n",
       "<tr><td>DCA</td><td>EWR</td></tr>\n",
       "<tr><td>IAD</td><td>EWR</td></tr>\n",
       "<tr><td>ATL</td><td>EWR</td></tr>\n",
       "<tr><td>CLE</td><td>ATL</td></tr>\n",
       "<tr><td>DCA</td><td>EWR</td></tr>\n",
       "<tr><td>EWR</td><td>DCA</td></tr>\n",
       "<tr><td>EWR</td><td>DCA</td></tr>\n",
       "<tr><td>DCA</td><td>EWR</td></tr>\n",
       "<tr><td>EWR</td><td>DCA</td></tr>\n",
       "<tr><td>CLE</td><td>DCA</td></tr>\n",
       "<tr><td>DCA</td><td>EWR</td></tr>\n",
       "<tr><td>ORD</td><td>EWR</td></tr>\n",
       "<tr><td>EWR</td><td>ORD</td></tr>\n",
       "<tr><td>ORD</td><td>EWR</td></tr>\n",
       "<tr><td>EWR</td><td>ORD</td></tr>\n",
       "<tr><td>ORD</td><td>EWR</td></tr>\n",
       "<tr><td>EWR</td><td>ORD</td></tr>\n",
       "</table>\n",
       "only showing top 20 rows\n"
      ],
      "text/plain": [
       "+---+---+\n",
       "|src|dst|\n",
       "+---+---+\n",
       "|DCA|EWR|\n",
       "|EWR|IAD|\n",
       "|EWR|DCA|\n",
       "|DCA|EWR|\n",
       "|IAD|EWR|\n",
       "|ATL|EWR|\n",
       "|CLE|ATL|\n",
       "|DCA|EWR|\n",
       "|EWR|DCA|\n",
       "|EWR|DCA|\n",
       "|DCA|EWR|\n",
       "|EWR|DCA|\n",
       "|CLE|DCA|\n",
       "|DCA|EWR|\n",
       "|ORD|EWR|\n",
       "|EWR|ORD|\n",
       "|ORD|EWR|\n",
       "|EWR|ORD|\n",
       "|ORD|EWR|\n",
       "|EWR|ORD|\n",
       "+---+---+\n",
       "only showing top 20 rows"
      ]
     },
     "metadata": {},
     "output_type": "display_data"
    }
   ],
   "source": [
    "#Vertices - irports \n",
    "airports_df = df.select(F.col(\"ORIGIN\").alias(\"id\")).union(\n",
    "    df.select(F.col(\"DEST\").alias(\"id\"))\n",
    ").distinct()\n",
    "\n",
    "#Edges - flights\n",
    "edges_df = df.select(\n",
    "    F.col(\"ORIGIN\").alias(\"src\"),\n",
    "    F.col(\"DEST\").alias(\"dst\")\n",
    ")\n",
    "\n",
    "#GraphFrame\n",
    "flights_graph = gf.GraphFrame(airports_df, edges_df)\n",
    "print(\"Airports total:\", flights_graph.vertices.count())\n",
    "print(\"Flights total:\", flights_graph.edges.count())\n",
    "\n",
    "flights_graph.cache()\n",
    "airports_df.cache()\n",
    "edges_df.cache()\n",
    "print(flights_graph)\n",
    "\n",
    "print(\"The airports from data: \") \n",
    "display(flights_graph.vertices)\n",
    "\n",
    "print(\"The flights between airports from data: \")  #routes\n",
    "display(flights_graph.edges)"
   ]
  },
  {
   "cell_type": "markdown",
   "metadata": {},
   "source": [
    "### Query 1 - Compute different statistics : in-degree, out-degree, total degree and triangle count"
   ]
  },
  {
   "cell_type": "markdown",
   "metadata": {},
   "source": [
    "### Custom in-degree, out-degree, degree, triangle count\n",
    "\n",
    "##### First, we computed the in-degree by counting how many flights arrive at each airport (dst). Then, we calculated the out-degree by counting how many flights depart from each airport (src). Finally, we combined both to compute the total degree for each airport by summing in-degree and out-degree. Missing values were handled using coalesce. \n",
    "NB teha väham gpt-ks või ära kustutada"
   ]
  },
  {
   "cell_type": "code",
   "execution_count": 4,
   "metadata": {},
   "outputs": [
    {
     "data": {
      "text/html": [
       "<table border='1'>\n",
       "<tr><th>id</th><th>inDegree</th><th>outDegree</th><th>totalDegree</th></tr>\n",
       "<tr><td>ABE</td><td>4037</td><td>4034</td><td>8071</td></tr>\n",
       "<tr><td>ABI</td><td>2490</td><td>2490</td><td>4980</td></tr>\n",
       "<tr><td>ABQ</td><td>35577</td><td>35582</td><td>71159</td></tr>\n",
       "<tr><td>ABY</td><td>997</td><td>995</td><td>1992</td></tr>\n",
       "<tr><td>ACK</td><td>343</td><td>342</td><td>685</td></tr>\n",
       "<tr><td>ACT</td><td>1052</td><td>1053</td><td>2105</td></tr>\n",
       "<tr><td>ACV</td><td>3364</td><td>3370</td><td>6734</td></tr>\n",
       "<tr><td>ACY</td><td>522</td><td>522</td><td>1044</td></tr>\n",
       "<tr><td>ADK</td><td>103</td><td>103</td><td>206</td></tr>\n",
       "<tr><td>ADQ</td><td>631</td><td>631</td><td>1262</td></tr>\n",
       "<tr><td>AEX</td><td>2948</td><td>2947</td><td>5895</td></tr>\n",
       "<tr><td>AGS</td><td>3106</td><td>3107</td><td>6213</td></tr>\n",
       "<tr><td>AKN</td><td>77</td><td>77</td><td>154</td></tr>\n",
       "<tr><td>ALB</td><td>12020</td><td>12018</td><td>24038</td></tr>\n",
       "<tr><td>ALO</td><td>331</td><td>330</td><td>661</td></tr>\n",
       "<tr><td>AMA</td><td>6649</td><td>6649</td><td>13298</td></tr>\n",
       "<tr><td>ANC</td><td>17788</td><td>17791</td><td>35579</td></tr>\n",
       "<tr><td>ASE</td><td>4708</td><td>4701</td><td>9409</td></tr>\n",
       "<tr><td>ATL</td><td>417457</td><td>417449</td><td>834906</td></tr>\n",
       "<tr><td>ATW</td><td>5306</td><td>5303</td><td>10609</td></tr>\n",
       "</table>\n",
       "only showing top 20 rows\n"
      ],
      "text/plain": [
       "+---+--------+---------+-----------+\n",
       "| id|inDegree|outDegree|totalDegree|\n",
       "+---+--------+---------+-----------+\n",
       "|ABE|    4037|     4034|       8071|\n",
       "|ABI|    2490|     2490|       4980|\n",
       "|ABQ|   35577|    35582|      71159|\n",
       "|ABY|     997|      995|       1992|\n",
       "|ACK|     343|      342|        685|\n",
       "|ACT|    1052|     1053|       2105|\n",
       "|ACV|    3364|     3370|       6734|\n",
       "|ACY|     522|      522|       1044|\n",
       "|ADK|     103|      103|        206|\n",
       "|ADQ|     631|      631|       1262|\n",
       "|AEX|    2948|     2947|       5895|\n",
       "|AGS|    3106|     3107|       6213|\n",
       "|AKN|      77|       77|        154|\n",
       "|ALB|   12020|    12018|      24038|\n",
       "|ALO|     331|      330|        661|\n",
       "|AMA|    6649|     6649|      13298|\n",
       "|ANC|   17788|    17791|      35579|\n",
       "|ASE|    4708|     4701|       9409|\n",
       "|ATL|  417457|   417449|     834906|\n",
       "|ATW|    5306|     5303|      10609|\n",
       "+---+--------+---------+-----------+\n",
       "only showing top 20 rows"
      ]
     },
     "metadata": {},
     "output_type": "display_data"
    }
   ],
   "source": [
    "# In-degree\n",
    "in_degree_df = edges_df.groupBy(\"dst\").count() \\\n",
    "    .withColumnRenamed(\"dst\", \"id\") \\\n",
    "    .withColumnRenamed(\"count\", \"inDegree\")\n",
    "\n",
    "# Out-degree\n",
    "out_degree_df = edges_df.groupBy(\"src\").count() \\\n",
    "    .withColumnRenamed(\"src\", \"id\") \\\n",
    "    .withColumnRenamed(\"count\", \"outDegree\")\n",
    "\n",
    "# Total degree\n",
    "degree_df = in_degree_df.join(out_degree_df, on=\"id\", how=\"full_outer\") \\\n",
    "    .withColumn(\"inDegree\", F.coalesce(F.col(\"inDegree\"), F.lit(0))) \\\n",
    "    .withColumn(\"outDegree\", F.coalesce(F.col(\"outDegree\"), F.lit(0))) \\\n",
    "    .withColumn(\"totalDegree\", F.col(\"inDegree\") + F.col(\"outDegree\"))\n",
    "\n",
    "display(degree_df)"
   ]
  },
  {
   "cell_type": "markdown",
   "metadata": {},
   "source": [
    "##### Calculating the number of unique triangles in the graph by joining edges to form two-step paths (A → B → C) and then checking if a closing edge (C → A) exists. To avoid duplicate counting, we sorted and filtered nodes (A < B < C). The result of Q2 - total triangles in the graph is 16015"
   ]
  },
  {
   "cell_type": "code",
   "execution_count": 5,
   "metadata": {},
   "outputs": [
    {
     "name": "stdout",
     "output_type": "stream",
     "text": [
      "Total triangles in the graph: 16015\n"
     ]
    },
    {
     "data": {
      "text/html": [
       "<table border='1'>\n",
       "<tr><th>A</th><th>B</th><th>C</th></tr>\n",
       "<tr><td>CLE</td><td>LGA</td><td>PBI</td></tr>\n",
       "<tr><td>CLE</td><td>LGA</td><td>MSN</td></tr>\n",
       "<tr><td>CLE</td><td>LGA</td><td>MDW</td></tr>\n",
       "<tr><td>CLE</td><td>LGA</td><td>ORD</td></tr>\n",
       "<tr><td>CLE</td><td>LGA</td><td>RDU</td></tr>\n",
       "<tr><td>CLE</td><td>LGA</td><td>PHL</td></tr>\n",
       "<tr><td>CLE</td><td>LGA</td><td>RSW</td></tr>\n",
       "<tr><td>CLE</td><td>LGA</td><td>MIA</td></tr>\n",
       "<tr><td>CLE</td><td>LGA</td><td>MCI</td></tr>\n",
       "<tr><td>CLE</td><td>LGA</td><td>MCO</td></tr>\n",
       "<tr><td>CLE</td><td>LGA</td><td>MSP</td></tr>\n",
       "<tr><td>CLE</td><td>LGA</td><td>STL</td></tr>\n",
       "<tr><td>CLE</td><td>LGA</td><td>TPA</td></tr>\n",
       "<tr><td>CLE</td><td>LGA</td><td>MEM</td></tr>\n",
       "<tr><td>CLE</td><td>LGA</td><td>MKE</td></tr>\n",
       "<tr><td>CLE</td><td>LGA</td><td>MSY</td></tr>\n",
       "<tr><td>CLE</td><td>LGA</td><td>TYS</td></tr>\n",
       "<tr><td>CLE</td><td>LGA</td><td>RIC</td></tr>\n",
       "<tr><td>GSP</td><td>IAH</td><td>LGA</td></tr>\n",
       "<tr><td>GSP</td><td>IAH</td><td>MEM</td></tr>\n",
       "</table>\n",
       "only showing top 20 rows\n"
      ],
      "text/plain": [
       "+---+---+---+\n",
       "|  A|  B|  C|\n",
       "+---+---+---+\n",
       "|CLE|LGA|PBI|\n",
       "|CLE|LGA|MSN|\n",
       "|CLE|LGA|MDW|\n",
       "|CLE|LGA|ORD|\n",
       "|CLE|LGA|RDU|\n",
       "|CLE|LGA|PHL|\n",
       "|CLE|LGA|RSW|\n",
       "|CLE|LGA|MIA|\n",
       "|CLE|LGA|MCI|\n",
       "|CLE|LGA|MCO|\n",
       "|CLE|LGA|MSP|\n",
       "|CLE|LGA|STL|\n",
       "|CLE|LGA|TPA|\n",
       "|CLE|LGA|MEM|\n",
       "|CLE|LGA|MKE|\n",
       "|CLE|LGA|MSY|\n",
       "|CLE|LGA|TYS|\n",
       "|CLE|LGA|RIC|\n",
       "|GSP|IAH|LGA|\n",
       "|GSP|IAH|MEM|\n",
       "+---+---+---+\n",
       "only showing top 20 rows"
      ]
     },
     "metadata": {},
     "output_type": "display_data"
    }
   ],
   "source": [
    "edges_filtered = edges_df.select(\n",
    "    F.least(\"src\", \"dst\").alias(\"src\"),\n",
    "    F.greatest(\"src\", \"dst\").alias(\"dst\")\n",
    ").distinct().cache()\n",
    "\n",
    "#two-edges paths\n",
    "paths_two = edges_filtered.alias(\"e1\").join(\n",
    "    edges_filtered.alias(\"e2\"),\n",
    "    F.col(\"e1.dst\") == F.col(\"e2.src\")\n",
    ").select(\n",
    "    F.col(\"e1.src\").alias(\"A\"),\n",
    "    F.col(\"e1.dst\").alias(\"B\"),\n",
    "    F.col(\"e2.dst\").alias(\"C\")\n",
    ").filter(\"A < B AND B < C\")\n",
    "\n",
    "#triangles\n",
    "triangles = paths_two.join(\n",
    "    edges_filtered.alias(\"e3\"),\n",
    "    (F.col(\"e3.src\") == F.col(\"A\")) & (F.col(\"e3.dst\") == F.col(\"C\"))\n",
    ").select(\"A\", \"B\", \"C\").distinct()\n",
    "\n",
    "#total triangles\n",
    "triangle_count = triangles.count()\n",
    "print(f\"Total triangles in the graph: {triangle_count}\")\n",
    "\n",
    "display(triangles)"
   ]
  },
  {
   "cell_type": "markdown",
   "metadata": {},
   "source": [
    "### Query  2 - Compute the total number of triangles in the graph"
   ]
  },
  {
   "cell_type": "code",
   "execution_count": 6,
   "metadata": {},
   "outputs": [
    {
     "name": "stdout",
     "output_type": "stream",
     "text": [
      "Total number of triangles in graph: 16015\n"
     ]
    }
   ],
   "source": [
    "print(f\"Total number of triangles in graph: {triangle_count}\")"
   ]
  },
  {
   "cell_type": "markdown",
   "metadata": {},
   "source": [
    "### Query 3 - Compute a centrality measure of your choice natively on Spark using Graphframes\n",
    "\n",
    "##### Degree Centrality Normalization:  We normalized the totalDegree by dividing it by the total number of airports in the data. Here we can see that the resulting values can be compared proportionally across the entire graph. This can help to understand how much each airport influences the flight network."
   ]
  },
  {
   "cell_type": "code",
   "execution_count": 7,
   "metadata": {},
   "outputs": [
    {
     "data": {
      "text/html": [
       "<table border='1'>\n",
       "<tr><th>id</th><th>inDegree</th><th>outDegree</th><th>totalDegree</th><th>degreeCentrality</th></tr>\n",
       "<tr><td>ATL</td><td>417457</td><td>417449</td><td>834906</td><td>2820.6283783783783</td></tr>\n",
       "<tr><td>ORD</td><td>313769</td><td>313848</td><td>627617</td><td>2120.3277027027025</td></tr>\n",
       "<tr><td>DFW</td><td>264398</td><td>264396</td><td>528794</td><td>1786.4662162162163</td></tr>\n",
       "<tr><td>DEN</td><td>235700</td><td>235675</td><td>471375</td><td>1592.4831081081081</td></tr>\n",
       "<tr><td>LAX</td><td>192916</td><td>192879</td><td>385795</td><td>1303.3614864864865</td></tr>\n",
       "<tr><td>PHX</td><td>183491</td><td>183502</td><td>366993</td><td>1239.8412162162163</td></tr>\n",
       "<tr><td>IAH</td><td>182088</td><td>182097</td><td>364185</td><td>1230.3547297297298</td></tr>\n",
       "<tr><td>LAS</td><td>153984</td><td>153993</td><td>307977</td><td>1040.462837837838</td></tr>\n",
       "<tr><td>DTW</td><td>152075</td><td>152081</td><td>304156</td><td>1027.554054054054</td></tr>\n",
       "<tr><td>SFO</td><td>136532</td><td>136488</td><td>273020</td><td>922.3648648648649</td></tr>\n",
       "<tr><td>SLC</td><td>131674</td><td>131694</td><td>263368</td><td>889.7567567567568</td></tr>\n",
       "<tr><td>MCO</td><td>120936</td><td>120944</td><td>241880</td><td>817.1621621621622</td></tr>\n",
       "<tr><td>MSP</td><td>119759</td><td>119732</td><td>239491</td><td>809.0912162162163</td></tr>\n",
       "<tr><td>JFK</td><td>119571</td><td>119574</td><td>239145</td><td>807.9222972972973</td></tr>\n",
       "<tr><td>EWR</td><td>118602</td><td>118602</td><td>237204</td><td>801.3648648648649</td></tr>\n",
       "<tr><td>CLT</td><td>116640</td><td>116650</td><td>233290</td><td>788.1418918918919</td></tr>\n",
       "<tr><td>BOS</td><td>110463</td><td>110460</td><td>220923</td><td>746.3614864864865</td></tr>\n",
       "<tr><td>SEA</td><td>100922</td><td>100948</td><td>201870</td><td>681.9932432432432</td></tr>\n",
       "<tr><td>BWI</td><td>100928</td><td>100923</td><td>201851</td><td>681.9290540540541</td></tr>\n",
       "<tr><td>LGA</td><td>100323</td><td>100334</td><td>200657</td><td>677.8952702702703</td></tr>\n",
       "</table>\n",
       "only showing top 20 rows\n"
      ],
      "text/plain": [
       "+---+--------+---------+-----------+------------------+\n",
       "| id|inDegree|outDegree|totalDegree|  degreeCentrality|\n",
       "+---+--------+---------+-----------+------------------+\n",
       "|ATL|  417457|   417449|     834906|2820.6283783783783|\n",
       "|ORD|  313769|   313848|     627617|2120.3277027027025|\n",
       "|DFW|  264398|   264396|     528794|1786.4662162162163|\n",
       "|DEN|  235700|   235675|     471375|1592.4831081081081|\n",
       "|LAX|  192916|   192879|     385795|1303.3614864864865|\n",
       "|PHX|  183491|   183502|     366993|1239.8412162162163|\n",
       "|IAH|  182088|   182097|     364185|1230.3547297297298|\n",
       "|LAS|  153984|   153993|     307977| 1040.462837837838|\n",
       "|DTW|  152075|   152081|     304156| 1027.554054054054|\n",
       "|SFO|  136532|   136488|     273020| 922.3648648648649|\n",
       "|SLC|  131674|   131694|     263368| 889.7567567567568|\n",
       "|MCO|  120936|   120944|     241880| 817.1621621621622|\n",
       "|MSP|  119759|   119732|     239491| 809.0912162162163|\n",
       "|JFK|  119571|   119574|     239145| 807.9222972972973|\n",
       "|EWR|  118602|   118602|     237204| 801.3648648648649|\n",
       "|CLT|  116640|   116650|     233290| 788.1418918918919|\n",
       "|BOS|  110463|   110460|     220923| 746.3614864864865|\n",
       "|SEA|  100922|   100948|     201870| 681.9932432432432|\n",
       "|BWI|  100928|   100923|     201851| 681.9290540540541|\n",
       "|LGA|  100323|   100334|     200657| 677.8952702702703|\n",
       "+---+--------+---------+-----------+------------------+\n",
       "only showing top 20 rows"
      ]
     },
     "metadata": {},
     "output_type": "display_data"
    }
   ],
   "source": [
    "degree_centrality = degree_df.withColumn(\"degreeCentrality\", F.col(\"totalDegree\") / airports_df.count())\n",
    "display(degree_centrality.orderBy(\"degreeCentrality\", ascending=False))"
   ]
  },
  {
   "cell_type": "markdown",
   "metadata": {},
   "source": [
    "### Query 4 - Implement the PageRank algorithm natively on Spark using Graphframes"
   ]
  },
  {
   "cell_type": "code",
   "execution_count": 8,
   "metadata": {},
   "outputs": [
    {
     "name": "stdout",
     "output_type": "stream",
     "text": [
      "Top 10 most important airports\n"
     ]
    },
    {
     "data": {
      "text/html": [
       "<table border='1'>\n",
       "<tr><th>id</th><th>pagerank</th></tr>\n",
       "<tr><td>ATL</td><td>18.905010413236518</td></tr>\n",
       "<tr><td>ORD</td><td>12.927110422702082</td></tr>\n",
       "<tr><td>DFW</td><td>11.735613068886845</td></tr>\n",
       "<tr><td>DEN</td><td>9.998483451764816</td></tr>\n",
       "<tr><td>LAX</td><td>7.726101869874797</td></tr>\n",
       "<tr><td>IAH</td><td>7.159305038124472</td></tr>\n",
       "<tr><td>PHX</td><td>7.065371562598674</td></tr>\n",
       "<tr><td>SLC</td><td>7.038754134167305</td></tr>\n",
       "<tr><td>DTW</td><td>7.01996853674844</td></tr>\n",
       "<tr><td>SFO</td><td>5.904248175402539</td></tr>\n",
       "</table>\n"
      ],
      "text/plain": [
       "+---+------------------+\n",
       "| id|          pagerank|\n",
       "+---+------------------+\n",
       "|ATL|18.905010413236518|\n",
       "|ORD|12.927110422702082|\n",
       "|DFW|11.735613068886845|\n",
       "|DEN| 9.998483451764816|\n",
       "|LAX| 7.726101869874797|\n",
       "|IAH| 7.159305038124472|\n",
       "|PHX| 7.065371562598674|\n",
       "|SLC| 7.038754134167305|\n",
       "|DTW|  7.01996853674844|\n",
       "|SFO| 5.904248175402539|\n",
       "+---+------------------+"
      ]
     },
     "metadata": {},
     "output_type": "display_data"
    }
   ],
   "source": [
    "g_pagerank = flights_graph.pageRank(resetProbability=0.15, maxIter=10)\n",
    "\n",
    "print(\"Top 10 most important airports\")\n",
    "display(g_pagerank.vertices.orderBy(F.desc(\"pagerank\")).limit(10))"
   ]
  },
  {
   "cell_type": "markdown",
   "metadata": {},
   "source": [
    "### Query 5 - Find the group of the most connected airports"
   ]
  },
  {
   "cell_type": "code",
   "execution_count": 9,
   "metadata": {},
   "outputs": [
    {
     "data": {
      "text/html": [
       "<table border='1'>\n",
       "<tr><th>id</th><th>inDegree</th><th>outDegree</th><th>totalDegree</th></tr>\n",
       "<tr><td>ATL</td><td>417457</td><td>417449</td><td>834906</td></tr>\n",
       "<tr><td>ORD</td><td>313769</td><td>313848</td><td>627617</td></tr>\n",
       "<tr><td>DFW</td><td>264398</td><td>264396</td><td>528794</td></tr>\n",
       "<tr><td>DEN</td><td>235700</td><td>235675</td><td>471375</td></tr>\n",
       "<tr><td>LAX</td><td>192916</td><td>192879</td><td>385795</td></tr>\n",
       "<tr><td>PHX</td><td>183491</td><td>183502</td><td>366993</td></tr>\n",
       "<tr><td>IAH</td><td>182088</td><td>182097</td><td>364185</td></tr>\n",
       "<tr><td>LAS</td><td>153984</td><td>153993</td><td>307977</td></tr>\n",
       "<tr><td>DTW</td><td>152075</td><td>152081</td><td>304156</td></tr>\n",
       "<tr><td>SFO</td><td>136532</td><td>136488</td><td>273020</td></tr>\n",
       "</table>\n"
      ],
      "text/plain": [
       "+---+--------+---------+-----------+\n",
       "| id|inDegree|outDegree|totalDegree|\n",
       "+---+--------+---------+-----------+\n",
       "|ATL|  417457|   417449|     834906|\n",
       "|ORD|  313769|   313848|     627617|\n",
       "|DFW|  264398|   264396|     528794|\n",
       "|DEN|  235700|   235675|     471375|\n",
       "|LAX|  192916|   192879|     385795|\n",
       "|PHX|  183491|   183502|     366993|\n",
       "|IAH|  182088|   182097|     364185|\n",
       "|LAS|  153984|   153993|     307977|\n",
       "|DTW|  152075|   152081|     304156|\n",
       "|SFO|  136532|   136488|     273020|\n",
       "+---+--------+---------+-----------+"
      ]
     },
     "metadata": {},
     "output_type": "display_data"
    }
   ],
   "source": [
    "#most connected airports based on total degree\n",
    "most_connected = degree_df.orderBy(\"totalDegree\", ascending=False).limit(10)\n",
    "display(most_connected)"
   ]
  },
  {
   "cell_type": "code",
   "execution_count": 10,
   "metadata": {},
   "outputs": [
    {
     "data": {
      "image/png": "[encoded data removed]",
      "text/plain": [
       "<Figure size 1000x600 with 1 Axes>"
      ]
     },
     "metadata": {},
     "output_type": "display_data"
    }
   ],
   "source": [
    "import matplotlib.pyplot as plt\n",
    "import seaborn as sns\n",
    "\n",
    "most_connected_pd = most_connected.toPandas()\n",
    "\n",
    "plt.figure(figsize=(10, 6))\n",
    "sns.barplot(x=\"totalDegree\", y=\"id\", data=most_connected_pd)\n",
    "plt.xlabel('Total connectivity') #degree\n",
    "plt.ylabel('Airport')\n",
    "plt.title('Top 10 most connected airports based on total degree')\n",
    "\n",
    "plt.show()"
   ]
  }
 ],
 "metadata": {
  "application/vnd.databricks.v1+notebook": {
   "dashboards": [],
   "language": "python",
   "notebookMetadata": {
    "pythonIndentUnit": 2
   },
   "notebookName": "Practice session - Dataframe",
   "notebookOrigID": 1061204080530756,
   "widgets": {}
  },
  "colab": {
   "provenance": []
  },
  "kernelspec": {
   "display_name": "Python 3 (ipykernel)",
   "language": "python",
   "name": "python3"
  },
  "language_info": {
   "codemirror_mode": {
    "name": "ipython",
    "version": 3
   },
   "file_extension": ".py",
   "mimetype": "text/x-python",
   "name": "python",
   "nbconvert_exporter": "python",
   "pygments_lexer": "ipython3",
   "version": "3.11.10"
  }
 },
 "nbformat": 4,
 "nbformat_minor": 4
}
