{
 "cells": [
  {
   "cell_type": "markdown",
   "metadata": {
    "id": "E1w9AYcq5R1L"
   },
   "source": [
    "# Big Data Management Project 3:\n",
    "## Analysing Flight Interconnected Data\n"
   ]
  },
  {
   "cell_type": "markdown",
   "metadata": {},
   "source": [
    "### Imports & Setup"
   ]
  },
  {
   "cell_type": "code",
   "execution_count": 1,
   "metadata": {},
   "outputs": [
    {
     "name": "stdout",
     "output_type": "stream",
     "text": [
      "Requirement already satisfied: delta-spark in /opt/conda/lib/python3.11/site-packages (3.3.0)\n",
      "Requirement already satisfied: pyspark<3.6.0,>=3.5.3 in /usr/local/spark/python (from delta-spark) (3.5.3)\n",
      "Requirement already satisfied: importlib-metadata>=1.0.0 in /opt/conda/lib/python3.11/site-packages (from delta-spark) (8.5.0)\n",
      "Requirement already satisfied: zipp>=3.20 in /opt/conda/lib/python3.11/site-packages (from importlib-metadata>=1.0.0->delta-spark) (3.20.2)\n",
      "Requirement already satisfied: py4j==0.10.9.7 in /opt/conda/lib/python3.11/site-packages (from pyspark<3.6.0,>=3.5.3->delta-spark) (0.10.9.7)\n",
      "Requirement already satisfied: graphframes in /opt/conda/lib/python3.11/site-packages (0.6)\n",
      "Requirement already satisfied: numpy in /opt/conda/lib/python3.11/site-packages (from graphframes) (1.26.4)\n",
      "Requirement already satisfied: nose in /opt/conda/lib/python3.11/site-packages (from graphframes) (1.3.7)\n"
     ]
    }
   ],
   "source": [
    "import pyspark\n",
    "!pip install delta-spark\n",
    "from delta import configure_spark_with_delta_pip\n",
    "\n",
    "!pip install graphframes\n",
    "import pyspark.sql.functions as F\n",
    "from pyspark.sql.types import StructType, StructField, StringType\n",
    "\n",
    "# 🔧 Spark Session with GraphFrames\n",
    "builder = pyspark.sql.SparkSession.builder.appName(\"FlightGraphAnalysis\") \\\n",
    "    .config(\"spark.sql.extensions\", \"io.delta.sql.DeltaSparkSessionExtension\") \\\n",
    "    .config(\"spark.sql.catalog.spark_catalog\", \"org.apache.spark.sql.delta.catalog.DeltaCatalog\") \\\n",
    "    .config(\"spark.network.timeout\", \"600s\") \\\n",
    "    .config(\"spark.executor.heartbeatInterval\", \"60s\") \\\n",
    "    .config(\"spark.executor.memory\", \"8g\") \\\n",
    "    .config(\"spark.executor.cores\", \"1\") \\\n",
    "    .config(\"spark.driver.memory\", \"8g\") \n",
    "\n",
    "\n",
    "spark = configure_spark_with_delta_pip(\n",
    "    builder, extra_packages=[\"graphframes:graphframes:0.8.4-spark3.5-s_2.12\"]\n",
    ").getOrCreate()\n",
    "\n",
    "spark.conf.set(\"spark.sql.shuffle.partitions\", spark._sc.defaultParallelism)\n",
    "spark.conf.set(\"spark.sql.repl.eagerEval.enabled\", True)\n",
    "spark.conf.set(\"spark.sql.repl.eagerEval.truncate\", 100)\n",
    "spark.conf.set(\"spark.sql.shuffle.partitions\", \"50\")  # default is 200\n",
    "spark.conf.set(\"spark.default.parallelism\", \"50\")\n",
    "spark.sparkContext.setCheckpointDir(\"/tmp/graphframes-checkpoints\")\n",
    "\n",
    "\n",
    "import graphframes as gf "
   ]
  },
  {
   "cell_type": "markdown",
   "metadata": {},
   "source": [
    "### Data download/extraction"
   ]
  },
  {
   "cell_type": "code",
   "execution_count": 2,
   "metadata": {},
   "outputs": [
    {
     "name": "stdout",
     "output_type": "stream",
     "text": [
      "Requirement already satisfied: gdown in /opt/conda/lib/python3.11/site-packages (5.2.0)\n",
      "Requirement already satisfied: beautifulsoup4 in /opt/conda/lib/python3.11/site-packages (from gdown) (4.12.3)\n",
      "Requirement already satisfied: filelock in /opt/conda/lib/python3.11/site-packages (from gdown) (3.18.0)\n",
      "Requirement already satisfied: requests[socks] in /opt/conda/lib/python3.11/site-packages (from gdown) (2.32.3)\n",
      "Requirement already satisfied: tqdm in /opt/conda/lib/python3.11/site-packages (from gdown) (4.66.5)\n",
      "Requirement already satisfied: soupsieve>1.2 in /opt/conda/lib/python3.11/site-packages (from beautifulsoup4->gdown) (2.5)\n",
      "Requirement already satisfied: charset-normalizer<4,>=2 in /opt/conda/lib/python3.11/site-packages (from requests[socks]->gdown) (3.4.0)\n",
      "Requirement already satisfied: idna<4,>=2.5 in /opt/conda/lib/python3.11/site-packages (from requests[socks]->gdown) (3.10)\n",
      "Requirement already satisfied: urllib3<3,>=1.21.1 in /opt/conda/lib/python3.11/site-packages (from requests[socks]->gdown) (2.2.3)\n",
      "Requirement already satisfied: certifi>=2017.4.17 in /opt/conda/lib/python3.11/site-packages (from requests[socks]->gdown) (2024.8.30)\n",
      "Requirement already satisfied: PySocks!=1.5.7,>=1.5.6 in /opt/conda/lib/python3.11/site-packages (from requests[socks]->gdown) (1.7.1)\n",
      "input/2009.csv already exists. Nothing to do.\n"
     ]
    }
   ],
   "source": [
    "!pip install gdown\n",
    "import gdown\n",
    "import os\n",
    "import zipfile\n",
    "\n",
    "zip_filename = \"input/2009.csv.zip\"\n",
    "csv_filename = \"input/2009.csv\"\n",
    "\n",
    "if os.path.exists(csv_filename):\n",
    "    print(f\"{csv_filename} already exists. Nothing to do.\")\n",
    "\n",
    "elif os.path.exists(zip_filename):\n",
    "    print(f\"{csv_filename} not found, but {zip_filename} exists. Unzipping...\")\n",
    "    with zipfile.ZipFile(zip_filename, 'r') as zip_ref:\n",
    "        zip_ref.extractall(\"input/.\")\n",
    "    print(\"Unzipping complete.\")\n",
    "\n",
    "else:\n",
    "    print(\"File is missing, importing from Google Drive\")\n",
    "    !gdown 1trFtRCe3xPBLr90hIWBF__OqppEnJPR_ -O input/\n",
    "    print(\"File downloaded, going to unzip\")\n",
    "    with zipfile.ZipFile(zip_filename, 'r') as zip_ref:\n",
    "        zip_ref.extractall(\"input/.\")\n",
    "    print(\"Unzipping complete.\")"
   ]
  },
  {
   "cell_type": "markdown",
   "metadata": {},
   "source": [
    "### Data selection\n",
    "\n",
    "##### We loaded the flight dataset and selected only the necessary columns. This helped reduce memory usage and speeds up processing."
   ]
  },
  {
   "cell_type": "code",
   "execution_count": 2,
   "metadata": {},
   "outputs": [
    {
     "name": "stdout",
     "output_type": "stream",
     "text": [
      "+------+----+----------+--------+\n",
      "|ORIGIN|DEST|   FL_DATE|DISTANCE|\n",
      "+------+----+----------+--------+\n",
      "|   DCA| EWR|2009-01-01|   199.0|\n",
      "|   EWR| IAD|2009-01-01|   213.0|\n",
      "|   EWR| DCA|2009-01-01|   199.0|\n",
      "|   DCA| EWR|2009-01-01|   199.0|\n",
      "|   IAD| EWR|2009-01-01|   213.0|\n",
      "|   ATL| EWR|2009-01-01|   745.0|\n",
      "|   CLE| ATL|2009-01-01|   554.0|\n",
      "|   DCA| EWR|2009-01-01|   199.0|\n",
      "|   EWR| DCA|2009-01-01|   199.0|\n",
      "|   EWR| DCA|2009-01-01|   199.0|\n",
      "|   DCA| EWR|2009-01-01|   199.0|\n",
      "|   EWR| DCA|2009-01-01|   199.0|\n",
      "|   CLE| DCA|2009-01-01|   310.0|\n",
      "|   DCA| EWR|2009-01-01|   199.0|\n",
      "|   ORD| EWR|2009-01-01|   719.0|\n",
      "|   EWR| ORD|2009-01-01|   719.0|\n",
      "|   ORD| EWR|2009-01-01|   719.0|\n",
      "|   EWR| ORD|2009-01-01|   719.0|\n",
      "|   ORD| EWR|2009-01-01|   719.0|\n",
      "|   EWR| ORD|2009-01-01|   719.0|\n",
      "+------+----+----------+--------+\n",
      "\n"
     ]
    }
   ],
   "source": [
    "df = (spark.read\n",
    "      .option(\"header\", \"true\")\n",
    "      .option(\"inferSchema\", \"true\")\n",
    "      .csv(\"input/2009.csv\")\n",
    "      .select(\"ORIGIN\", \"DEST\", \"FL_DATE\", \"DISTANCE\"))  # selection\n",
    "\n",
    "df.limit(20).show()"
   ]
  },
  {
   "cell_type": "markdown",
   "metadata": {},
   "source": [
    "### Graph\n",
    "#### Verticles - airports\n",
    "#### Edges - flights\n",
    "##### In this graph each airport is represented as a vertex and each flight as a directed edge. The `airports_df` shows unique airport codes from both origin and destination columns. The `edges_df` contains flight connections with `src` (origin) and `dst` (destination). Using these, we constructed the `flights_graph`."
   ]
  },
  {
   "cell_type": "code",
   "execution_count": 3,
   "metadata": {},
   "outputs": [
    {
     "name": "stdout",
     "output_type": "stream",
     "text": [
      "Airports total: 296\n",
      "Flights total: 6429338\n"
     ]
    },
    {
     "data": {
      "text/plain": [
       "GraphFrame(v:[id: string], e:[src: string, dst: string])"
      ]
     },
     "metadata": {},
     "output_type": "display_data"
    },
    {
     "name": "stdout",
     "output_type": "stream",
     "text": [
      "The airports from data: \n"
     ]
    },
    {
     "data": {
      "text/html": [
       "<table border='1'>\n",
       "<tr><th>id</th></tr>\n",
       "<tr><td>CLT</td></tr>\n",
       "<tr><td>BNA</td></tr>\n",
       "<tr><td>HNL</td></tr>\n",
       "<tr><td>TVC</td></tr>\n",
       "<tr><td>CLL</td></tr>\n",
       "<tr><td>BGM</td></tr>\n",
       "<tr><td>LCH</td></tr>\n",
       "<tr><td>SHV</td></tr>\n",
       "<tr><td>TEX</td></tr>\n",
       "<tr><td>PSC</td></tr>\n",
       "<tr><td>ERI</td></tr>\n",
       "<tr><td>PSE</td></tr>\n",
       "<tr><td>DLG</td></tr>\n",
       "<tr><td>GST</td></tr>\n",
       "<tr><td>BLI</td></tr>\n",
       "<tr><td>CVG</td></tr>\n",
       "<tr><td>VPS</td></tr>\n",
       "<tr><td>MSY</td></tr>\n",
       "<tr><td>SJC</td></tr>\n",
       "<tr><td>CIC</td></tr>\n",
       "</table>\n",
       "only showing top 20 rows\n"
      ],
      "text/plain": [
       "+---+\n",
       "| id|\n",
       "+---+\n",
       "|CLT|\n",
       "|BNA|\n",
       "|HNL|\n",
       "|TVC|\n",
       "|CLL|\n",
       "|BGM|\n",
       "|LCH|\n",
       "|SHV|\n",
       "|TEX|\n",
       "|PSC|\n",
       "|ERI|\n",
       "|PSE|\n",
       "|DLG|\n",
       "|GST|\n",
       "|BLI|\n",
       "|CVG|\n",
       "|VPS|\n",
       "|MSY|\n",
       "|SJC|\n",
       "|CIC|\n",
       "+---+\n",
       "only showing top 20 rows"
      ]
     },
     "metadata": {},
     "output_type": "display_data"
    },
    {
     "name": "stdout",
     "output_type": "stream",
     "text": [
      "The flights between airports from data: \n"
     ]
    },
    {
     "data": {
      "text/html": [
       "<table border='1'>\n",
       "<tr><th>src</th><th>dst</th></tr>\n",
       "<tr><td>DCA</td><td>EWR</td></tr>\n",
       "<tr><td>EWR</td><td>IAD</td></tr>\n",
       "<tr><td>EWR</td><td>DCA</td></tr>\n",
       "<tr><td>DCA</td><td>EWR</td></tr>\n",
       "<tr><td>IAD</td><td>EWR</td></tr>\n",
       "<tr><td>ATL</td><td>EWR</td></tr>\n",
       "<tr><td>CLE</td><td>ATL</td></tr>\n",
       "<tr><td>DCA</td><td>EWR</td></tr>\n",
       "<tr><td>EWR</td><td>DCA</td></tr>\n",
       "<tr><td>EWR</td><td>DCA</td></tr>\n",
       "<tr><td>DCA</td><td>EWR</td></tr>\n",
       "<tr><td>EWR</td><td>DCA</td></tr>\n",
       "<tr><td>CLE</td><td>DCA</td></tr>\n",
       "<tr><td>DCA</td><td>EWR</td></tr>\n",
       "<tr><td>ORD</td><td>EWR</td></tr>\n",
       "<tr><td>EWR</td><td>ORD</td></tr>\n",
       "<tr><td>ORD</td><td>EWR</td></tr>\n",
       "<tr><td>EWR</td><td>ORD</td></tr>\n",
       "<tr><td>ORD</td><td>EWR</td></tr>\n",
       "<tr><td>EWR</td><td>ORD</td></tr>\n",
       "</table>\n",
       "only showing top 20 rows\n"
      ],
      "text/plain": [
       "+---+---+\n",
       "|src|dst|\n",
       "+---+---+\n",
       "|DCA|EWR|\n",
       "|EWR|IAD|\n",
       "|EWR|DCA|\n",
       "|DCA|EWR|\n",
       "|IAD|EWR|\n",
       "|ATL|EWR|\n",
       "|CLE|ATL|\n",
       "|DCA|EWR|\n",
       "|EWR|DCA|\n",
       "|EWR|DCA|\n",
       "|DCA|EWR|\n",
       "|EWR|DCA|\n",
       "|CLE|DCA|\n",
       "|DCA|EWR|\n",
       "|ORD|EWR|\n",
       "|EWR|ORD|\n",
       "|ORD|EWR|\n",
       "|EWR|ORD|\n",
       "|ORD|EWR|\n",
       "|EWR|ORD|\n",
       "+---+---+\n",
       "only showing top 20 rows"
      ]
     },
     "metadata": {},
     "output_type": "display_data"
    }
   ],
   "source": [
    "#remove rows with null values\n",
    "df_cleaned = df.dropna(subset=[\"ORIGIN\", \"DEST\"])\n",
    "\n",
    "#Vertices - airports \n",
    "airports_df = df.select(F.col(\"ORIGIN\").alias(\"id\")).union(\n",
    "    df.select(F.col(\"DEST\").alias(\"id\"))\n",
    ").distinct()\n",
    "\n",
    "#Edges - flights\n",
    "edges_df = df.select(\n",
    "    F.col(\"ORIGIN\").alias(\"src\"),\n",
    "    F.col(\"DEST\").alias(\"dst\")\n",
    ")\n",
    "\n",
    "#GraphFrame\n",
    "flights_graph = gf.GraphFrame(airports_df, edges_df)\n",
    "print(\"Airports total:\", flights_graph.vertices.count())\n",
    "print(\"Flights total:\", flights_graph.edges.count())\n",
    "\n",
    "flights_graph.cache()\n",
    "airports_df.cache()\n",
    "edges_df.cache()\n",
    "display(flights_graph)\n",
    "\n",
    "print(\"The airports from data: \") \n",
    "display(flights_graph.vertices)\n",
    "print(\"The flights between airports from data: \")\n",
    "display(flights_graph.edges)"
   ]
  },
  {
   "cell_type": "markdown",
   "metadata": {},
   "source": [
    "### Query 1"
   ]
  },
  {
   "cell_type": "markdown",
   "metadata": {},
   "source": [
    "### Custom in-degree, out-degree, degree, triangle count\n",
    "\n",
    "##### First, we computed the in-degree by counting how many flights arrive at each airport (dst). Then, we calculated the out-degree by counting how many flights depart from each airport (src). Finally, we combined both to compute the total degree for each airport by summing in-degree and out-degree. Missing values were handled using coalesce."
   ]
  },
  {
   "cell_type": "code",
   "execution_count": 5,
   "metadata": {},
   "outputs": [
    {
     "data": {
      "text/html": [
       "<table border='1'>\n",
       "<tr><th>id</th><th>inDegree</th><th>outDegree</th><th>totalDegree</th></tr>\n",
       "<tr><td>ABE</td><td>4037</td><td>4034</td><td>8071</td></tr>\n",
       "<tr><td>ABI</td><td>2490</td><td>2490</td><td>4980</td></tr>\n",
       "<tr><td>ABQ</td><td>35577</td><td>35582</td><td>71159</td></tr>\n",
       "<tr><td>ABY</td><td>997</td><td>995</td><td>1992</td></tr>\n",
       "<tr><td>ACK</td><td>343</td><td>342</td><td>685</td></tr>\n",
       "<tr><td>ACT</td><td>1052</td><td>1053</td><td>2105</td></tr>\n",
       "<tr><td>ACV</td><td>3364</td><td>3370</td><td>6734</td></tr>\n",
       "<tr><td>ACY</td><td>522</td><td>522</td><td>1044</td></tr>\n",
       "<tr><td>ADK</td><td>103</td><td>103</td><td>206</td></tr>\n",
       "<tr><td>ADQ</td><td>631</td><td>631</td><td>1262</td></tr>\n",
       "<tr><td>AEX</td><td>2948</td><td>2947</td><td>5895</td></tr>\n",
       "<tr><td>AGS</td><td>3106</td><td>3107</td><td>6213</td></tr>\n",
       "<tr><td>AKN</td><td>77</td><td>77</td><td>154</td></tr>\n",
       "<tr><td>ALB</td><td>12020</td><td>12018</td><td>24038</td></tr>\n",
       "<tr><td>ALO</td><td>331</td><td>330</td><td>661</td></tr>\n",
       "<tr><td>AMA</td><td>6649</td><td>6649</td><td>13298</td></tr>\n",
       "<tr><td>ANC</td><td>17788</td><td>17791</td><td>35579</td></tr>\n",
       "<tr><td>ASE</td><td>4708</td><td>4701</td><td>9409</td></tr>\n",
       "<tr><td>ATL</td><td>417457</td><td>417449</td><td>834906</td></tr>\n",
       "<tr><td>ATW</td><td>5306</td><td>5303</td><td>10609</td></tr>\n",
       "</table>\n",
       "only showing top 20 rows\n"
      ],
      "text/plain": [
       "+---+--------+---------+-----------+\n",
       "| id|inDegree|outDegree|totalDegree|\n",
       "+---+--------+---------+-----------+\n",
       "|ABE|    4037|     4034|       8071|\n",
       "|ABI|    2490|     2490|       4980|\n",
       "|ABQ|   35577|    35582|      71159|\n",
       "|ABY|     997|      995|       1992|\n",
       "|ACK|     343|      342|        685|\n",
       "|ACT|    1052|     1053|       2105|\n",
       "|ACV|    3364|     3370|       6734|\n",
       "|ACY|     522|      522|       1044|\n",
       "|ADK|     103|      103|        206|\n",
       "|ADQ|     631|      631|       1262|\n",
       "|AEX|    2948|     2947|       5895|\n",
       "|AGS|    3106|     3107|       6213|\n",
       "|AKN|      77|       77|        154|\n",
       "|ALB|   12020|    12018|      24038|\n",
       "|ALO|     331|      330|        661|\n",
       "|AMA|    6649|     6649|      13298|\n",
       "|ANC|   17788|    17791|      35579|\n",
       "|ASE|    4708|     4701|       9409|\n",
       "|ATL|  417457|   417449|     834906|\n",
       "|ATW|    5306|     5303|      10609|\n",
       "+---+--------+---------+-----------+\n",
       "only showing top 20 rows"
      ]
     },
     "metadata": {},
     "output_type": "display_data"
    }
   ],
   "source": [
    "# In-degree\n",
    "in_degree_df = edges_df.groupBy(\"dst\").count() \\\n",
    "    .withColumnRenamed(\"dst\", \"id\") \\\n",
    "    .withColumnRenamed(\"count\", \"inDegree\")\n",
    "\n",
    "# Out-degree\n",
    "out_degree_df = edges_df.groupBy(\"src\").count() \\\n",
    "    .withColumnRenamed(\"src\", \"id\") \\\n",
    "    .withColumnRenamed(\"count\", \"outDegree\")\n",
    "\n",
    "# Total degree (merge in & out)\n",
    "degree_df = in_degree_df.join(out_degree_df, on=\"id\", how=\"full_outer\") \\\n",
    "    .withColumn(\"inDegree\", F.coalesce(F.col(\"inDegree\"), F.lit(0))) \\\n",
    "    .withColumn(\"outDegree\", F.coalesce(F.col(\"outDegree\"), F.lit(0))) \\\n",
    "    .withColumn(\"totalDegree\", F.col(\"inDegree\") + F.col(\"outDegree\"))\n",
    "\n",
    "display(degree_df)"
   ]
  },
  {
   "cell_type": "markdown",
   "metadata": {},
   "source": [
    "##### Calculating the number of unique triangles in the graph by joining edges to form two-step paths (A → B → C) and then checking if a closing edge (C → A) exists. To avoid duplicate counting, we sorted and filtered nodes (A < B < C). The result of Q2 - total triangles in the graph is 16015"
   ]
  },
  {
   "cell_type": "code",
   "execution_count": 6,
   "metadata": {},
   "outputs": [
    {
     "data": {
      "text/html": [
       "<table border='1'>\n",
       "<tr><th>airport</th><th>triangle_count</th></tr>\n",
       "<tr><td>ATL</td><td>1761</td></tr>\n",
       "<tr><td>ORD</td><td>1678</td></tr>\n",
       "<tr><td>DFW</td><td>1503</td></tr>\n",
       "<tr><td>DTW</td><td>1479</td></tr>\n",
       "<tr><td>DEN</td><td>1438</td></tr>\n",
       "<tr><td>MSP</td><td>1396</td></tr>\n",
       "<tr><td>IAH</td><td>1338</td></tr>\n",
       "<tr><td>CVG</td><td>1261</td></tr>\n",
       "<tr><td>LAS</td><td>1231</td></tr>\n",
       "<tr><td>PHX</td><td>1191</td></tr>\n",
       "<tr><td>EWR</td><td>1165</td></tr>\n",
       "<tr><td>MEM</td><td>1105</td></tr>\n",
       "<tr><td>CLT</td><td>1049</td></tr>\n",
       "<tr><td>MCO</td><td>1047</td></tr>\n",
       "<tr><td>LAX</td><td>1020</td></tr>\n",
       "<tr><td>SLC</td><td>1014</td></tr>\n",
       "<tr><td>BWI</td><td>1003</td></tr>\n",
       "<tr><td>PHL</td><td>985</td></tr>\n",
       "<tr><td>CLE</td><td>981</td></tr>\n",
       "<tr><td>IAD</td><td>971</td></tr>\n",
       "</table>\n",
       "only showing top 20 rows\n"
      ],
      "text/plain": [
       "+-------+--------------+\n",
       "|airport|triangle_count|\n",
       "+-------+--------------+\n",
       "|    ATL|          1761|\n",
       "|    ORD|          1678|\n",
       "|    DFW|          1503|\n",
       "|    DTW|          1479|\n",
       "|    DEN|          1438|\n",
       "|    MSP|          1396|\n",
       "|    IAH|          1338|\n",
       "|    CVG|          1261|\n",
       "|    LAS|          1231|\n",
       "|    PHX|          1191|\n",
       "|    EWR|          1165|\n",
       "|    MEM|          1105|\n",
       "|    CLT|          1049|\n",
       "|    MCO|          1047|\n",
       "|    LAX|          1020|\n",
       "|    SLC|          1014|\n",
       "|    BWI|          1003|\n",
       "|    PHL|           985|\n",
       "|    CLE|           981|\n",
       "|    IAD|           971|\n",
       "+-------+--------------+\n",
       "only showing top 20 rows"
      ]
     },
     "metadata": {},
     "output_type": "display_data"
    }
   ],
   "source": [
    "from pyspark.sql import functions as F\n",
    "\n",
    "edges_filtered = edges_df.select(\n",
    "    F.least(\"src\", \"dst\").alias(\"src\"),\n",
    "    F.greatest(\"src\", \"dst\").alias(\"dst\")\n",
    ").distinct().cache()\n",
    "\n",
    "# two-edge paths\n",
    "paths_two = edges_filtered.alias(\"e1\").join(\n",
    "    edges_filtered.alias(\"e2\"),\n",
    "    F.col(\"e1.dst\") == F.col(\"e2.src\")\n",
    ").select(\n",
    "    F.col(\"e1.src\").alias(\"A\"),\n",
    "    F.col(\"e1.dst\").alias(\"B\"),\n",
    "    F.col(\"e2.dst\").alias(\"C\")\n",
    ").filter(\"A < B AND B < C\")\n",
    "\n",
    "# checking if (a,c) exists\n",
    "triangles = paths_two.join(\n",
    "    edges_filtered.alias(\"e3\"),\n",
    "    (F.col(\"e3.src\") == F.col(\"A\")) & (F.col(\"e3.dst\") == F.col(\"C\"))\n",
    ").select(\"A\", \"B\", \"C\").distinct()\n",
    "\n",
    "# count per airport\n",
    "triangle_airports = triangles.select(\"A\").union(\n",
    "    triangles.select(\"B\")\n",
    ").union(\n",
    "    triangles.select(\"C\")\n",
    ")\n",
    "\n",
    "# count how many times each airport appears in triangles\n",
    "triangle_counts = triangle_airports.groupBy(\"A\").count() \\\n",
    "    .withColumnRenamed(\"A\", \"airport\") \\\n",
    "    .withColumnRenamed(\"count\", \"triangle_count\") \\\n",
    "    .orderBy(F.desc(\"triangle_count\"))\n",
    "\n",
    "display(triangle_counts)"
   ]
  },
  {
   "cell_type": "code",
   "execution_count": 7,
   "metadata": {},
   "outputs": [
    {
     "name": "stdout",
     "output_type": "stream",
     "text": [
      "+-------+--------------+\n",
      "|airport|triangle_count|\n",
      "+-------+--------------+\n",
      "|ATL    |1761          |\n",
      "|ORD    |1678          |\n",
      "|DFW    |1503          |\n",
      "|DTW    |1479          |\n",
      "|DEN    |1438          |\n",
      "|MSP    |1396          |\n",
      "|IAH    |1338          |\n",
      "|CVG    |1261          |\n",
      "|LAS    |1231          |\n",
      "|PHX    |1191          |\n",
      "+-------+--------------+\n",
      "only showing top 10 rows\n",
      "\n"
     ]
    }
   ],
   "source": [
    "# validation\n",
    "triangle_check = flights_graph.triangleCount()\n",
    "\n",
    "# Show top 10 airports with highest triangle counts\n",
    "triangle_check.select(\"id\", \"count\") \\\n",
    "    .withColumnRenamed(\"id\", \"airport\") \\\n",
    "    .withColumnRenamed(\"count\", \"triangle_count\") \\\n",
    "    .orderBy(F.desc(\"triangle_count\")) \\\n",
    "    .show(10, truncate=False)"
   ]
  },
  {
   "cell_type": "markdown",
   "metadata": {},
   "source": [
    "### Plot for triangle count"
   ]
  },
  {
   "cell_type": "code",
   "execution_count": 8,
   "metadata": {},
   "outputs": [
    {
     "data": {
      "image/png": "[encoded data removed]",
      "text/plain": [
       "<Figure size 1200x600 with 1 Axes>"
      ]
     },
     "metadata": {},
     "output_type": "display_data"
    }
   ],
   "source": [
    "import matplotlib.pyplot as plt\n",
    "triangle_counts_top10 = triangle_counts.limit(10).toPandas()\n",
    "\n",
    "plt.figure(figsize=(12, 6))\n",
    "bars = plt.bar(triangle_counts_top10[\"airport\"], triangle_counts_top10[\"triangle_count\"], color='lightblue')\n",
    "plt.title(\"Top 10 Airports by Triangle count\")\n",
    "plt.xlabel(\"Airport name\")\n",
    "plt.ylabel(\"Triangle count\")\n",
    "plt.xticks(rotation=45)\n",
    "plt.grid(axis='y', linestyle='--', alpha=0.7)\n",
    "\n",
    "for bar in bars:\n",
    "    yval = bar.get_height()\n",
    "    plt.text(bar.get_x() + bar.get_width()/2, yval + 10, int(yval), ha='center', va='bottom')\n",
    "\n",
    "plt.tight_layout()\n",
    "plt.show()"
   ]
  },
  {
   "cell_type": "markdown",
   "metadata": {},
   "source": [
    "### Query  2"
   ]
  },
  {
   "cell_type": "code",
   "execution_count": 9,
   "metadata": {},
   "outputs": [
    {
     "name": "stdout",
     "output_type": "stream",
     "text": [
      "Total triangles in the graph: 16015\n",
      "+---+---+---+\n",
      "|A  |B  |C  |\n",
      "+---+---+---+\n",
      "|CLE|LGA|PBI|\n",
      "|CLE|LGA|MSN|\n",
      "|CLE|LGA|MDW|\n",
      "|CLE|LGA|ORD|\n",
      "|CLE|LGA|RDU|\n",
      "+---+---+---+\n",
      "only showing top 5 rows\n",
      "\n"
     ]
    }
   ],
   "source": [
    "# Count total triangles\n",
    "triangle_count = triangles.count()\n",
    "print(f\"Total triangles in the graph: {triangle_count}\")\n",
    "\n",
    "# Display some triangles\n",
    "triangles.show(5, truncate=False)"
   ]
  },
  {
   "cell_type": "code",
   "execution_count": 10,
   "metadata": {},
   "outputs": [
    {
     "name": "stdout",
     "output_type": "stream",
     "text": [
      "Total triangles: 16015\n"
     ]
    }
   ],
   "source": [
    "### validation ###\n",
    "triangle_check_df = flights_graph.triangleCount()\n",
    "\n",
    "from pyspark.sql.functions import sum as Fsum\n",
    "total_triangles_gf = triangle_check_df.agg(Fsum(\"count\") / 3).first()[0]\n",
    "print(f\"Total triangles: {int(total_triangles_gf)}\")"
   ]
  },
  {
   "cell_type": "markdown",
   "metadata": {},
   "source": [
    "### Query 3\n",
    "#### Centrality Measure (custom) – Degree Centrality \n",
    "##### Degree Centrality Normalization:  We normalized the totalDegree by dividing it by the total number of airports in the data. Here we can see that the resulting values can be compared proportionally across the entire graph. This can help to understand how much each airport influences the flight network."
   ]
  },
  {
   "cell_type": "code",
   "execution_count": 11,
   "metadata": {},
   "outputs": [
    {
     "data": {
      "text/html": [
       "<table border='1'>\n",
       "<tr><th>id</th><th>inDegree</th><th>outDegree</th><th>totalDegree</th><th>degreeCentrality</th></tr>\n",
       "<tr><td>ATL</td><td>417457</td><td>417449</td><td>834906</td><td>2820.6283783783783</td></tr>\n",
       "<tr><td>ORD</td><td>313769</td><td>313848</td><td>627617</td><td>2120.3277027027025</td></tr>\n",
       "<tr><td>DFW</td><td>264398</td><td>264396</td><td>528794</td><td>1786.4662162162163</td></tr>\n",
       "<tr><td>DEN</td><td>235700</td><td>235675</td><td>471375</td><td>1592.4831081081081</td></tr>\n",
       "<tr><td>LAX</td><td>192916</td><td>192879</td><td>385795</td><td>1303.3614864864865</td></tr>\n",
       "<tr><td>PHX</td><td>183491</td><td>183502</td><td>366993</td><td>1239.8412162162163</td></tr>\n",
       "<tr><td>IAH</td><td>182088</td><td>182097</td><td>364185</td><td>1230.3547297297298</td></tr>\n",
       "<tr><td>LAS</td><td>153984</td><td>153993</td><td>307977</td><td>1040.462837837838</td></tr>\n",
       "<tr><td>DTW</td><td>152075</td><td>152081</td><td>304156</td><td>1027.554054054054</td></tr>\n",
       "<tr><td>SFO</td><td>136532</td><td>136488</td><td>273020</td><td>922.3648648648649</td></tr>\n",
       "<tr><td>SLC</td><td>131674</td><td>131694</td><td>263368</td><td>889.7567567567568</td></tr>\n",
       "<tr><td>MCO</td><td>120936</td><td>120944</td><td>241880</td><td>817.1621621621622</td></tr>\n",
       "<tr><td>MSP</td><td>119759</td><td>119732</td><td>239491</td><td>809.0912162162163</td></tr>\n",
       "<tr><td>JFK</td><td>119571</td><td>119574</td><td>239145</td><td>807.9222972972973</td></tr>\n",
       "<tr><td>EWR</td><td>118602</td><td>118602</td><td>237204</td><td>801.3648648648649</td></tr>\n",
       "<tr><td>CLT</td><td>116640</td><td>116650</td><td>233290</td><td>788.1418918918919</td></tr>\n",
       "<tr><td>BOS</td><td>110463</td><td>110460</td><td>220923</td><td>746.3614864864865</td></tr>\n",
       "<tr><td>SEA</td><td>100922</td><td>100948</td><td>201870</td><td>681.9932432432432</td></tr>\n",
       "<tr><td>BWI</td><td>100928</td><td>100923</td><td>201851</td><td>681.9290540540541</td></tr>\n",
       "<tr><td>LGA</td><td>100323</td><td>100334</td><td>200657</td><td>677.8952702702703</td></tr>\n",
       "</table>\n",
       "only showing top 20 rows\n"
      ],
      "text/plain": [
       "+---+--------+---------+-----------+------------------+\n",
       "| id|inDegree|outDegree|totalDegree|  degreeCentrality|\n",
       "+---+--------+---------+-----------+------------------+\n",
       "|ATL|  417457|   417449|     834906|2820.6283783783783|\n",
       "|ORD|  313769|   313848|     627617|2120.3277027027025|\n",
       "|DFW|  264398|   264396|     528794|1786.4662162162163|\n",
       "|DEN|  235700|   235675|     471375|1592.4831081081081|\n",
       "|LAX|  192916|   192879|     385795|1303.3614864864865|\n",
       "|PHX|  183491|   183502|     366993|1239.8412162162163|\n",
       "|IAH|  182088|   182097|     364185|1230.3547297297298|\n",
       "|LAS|  153984|   153993|     307977| 1040.462837837838|\n",
       "|DTW|  152075|   152081|     304156| 1027.554054054054|\n",
       "|SFO|  136532|   136488|     273020| 922.3648648648649|\n",
       "|SLC|  131674|   131694|     263368| 889.7567567567568|\n",
       "|MCO|  120936|   120944|     241880| 817.1621621621622|\n",
       "|MSP|  119759|   119732|     239491| 809.0912162162163|\n",
       "|JFK|  119571|   119574|     239145| 807.9222972972973|\n",
       "|EWR|  118602|   118602|     237204| 801.3648648648649|\n",
       "|CLT|  116640|   116650|     233290| 788.1418918918919|\n",
       "|BOS|  110463|   110460|     220923| 746.3614864864865|\n",
       "|SEA|  100922|   100948|     201870| 681.9932432432432|\n",
       "|BWI|  100928|   100923|     201851| 681.9290540540541|\n",
       "|LGA|  100323|   100334|     200657| 677.8952702702703|\n",
       "+---+--------+---------+-----------+------------------+\n",
       "only showing top 20 rows"
      ]
     },
     "metadata": {},
     "output_type": "display_data"
    }
   ],
   "source": [
    "degree_centrality = degree_df.withColumn(\"degreeCentrality\", F.col(\"totalDegree\") / airports_df.count())\n",
    "display(degree_centrality.orderBy(\"degreeCentrality\", ascending=False))"
   ]
  },
  {
   "cell_type": "code",
   "execution_count": 12,
   "metadata": {},
   "outputs": [
    {
     "name": "stdout",
     "output_type": "stream",
     "text": [
      "+---+------+------------------+\n",
      "|id |degree|degreeCentrality  |\n",
      "+---+------+------------------+\n",
      "|ATL|834906|2820.6283783783783|\n",
      "|ORD|627617|2120.3277027027025|\n",
      "|DFW|528794|1786.4662162162163|\n",
      "|DEN|471375|1592.4831081081081|\n",
      "|LAX|385795|1303.3614864864865|\n",
      "|PHX|366993|1239.8412162162163|\n",
      "|IAH|364185|1230.3547297297298|\n",
      "|LAS|307977|1040.462837837838 |\n",
      "|DTW|304156|1027.554054054054 |\n",
      "|SFO|273020|922.3648648648649 |\n",
      "+---+------+------------------+\n",
      "only showing top 10 rows\n",
      "\n"
     ]
    }
   ],
   "source": [
    "# validation\n",
    "graphframe_degrees = flights_graph.degrees\n",
    "total_airports = airports_df.count()\n",
    "graphframe_degrees = graphframe_degrees.withColumn(\n",
    "    \"degreeCentrality\", F.col(\"degree\") / total_airports\n",
    ")\n",
    "graphframe_degrees.orderBy(F.desc(\"degreeCentrality\")).show(10, truncate=False)"
   ]
  },
  {
   "cell_type": "code",
   "execution_count": 13,
   "metadata": {},
   "outputs": [
    {
     "data": {
      "image/png": "[encoded data removed]",
      "text/plain": [
       "<Figure size 1200x600 with 1 Axes>"
      ]
     },
     "metadata": {},
     "output_type": "display_data"
    }
   ],
   "source": [
    "top10_degree = degree_centrality.orderBy(\"degreeCentrality\", ascending=False).limit(10).toPandas()\n",
    "\n",
    "plt.figure(figsize=(12, 6))\n",
    "bars = plt.bar(top10_degree[\"id\"], top10_degree[\"degreeCentrality\"], color='skyblue')\n",
    "plt.title(\"Top 10 Airports by Degree centrality\")\n",
    "plt.xlabel(\"Airport\")\n",
    "plt.ylabel(\"Degree centrality\")\n",
    "plt.xticks(rotation=45)\n",
    "plt.grid(axis='y', linestyle='--', alpha=0.7)\n",
    "\n",
    "for bar in bars:\n",
    "    yval = bar.get_height()\n",
    "    plt.text(bar.get_x() + bar.get_width()/2, yval + 0.0005, f\"{yval:.4f}\", ha='center', va='bottom')\n",
    "\n",
    "plt.tight_layout()\n",
    "plt.show()"
   ]
  },
  {
   "cell_type": "markdown",
   "metadata": {},
   "source": [
    "### Query 4"
   ]
  },
  {
   "cell_type": "code",
   "execution_count": 14,
   "metadata": {},
   "outputs": [],
   "source": [
    "from pyspark.sql import functions as F\n",
    "from pyspark.sql.functions import lit\n",
    "\n",
    "# Damping factor\n",
    "d = 0.85\n",
    "N = flights_graph.vertices.count()\n",
    "\n",
    "# Initial rank = 1.0 per node\n",
    "ranks = flights_graph.vertices.withColumn(\"rank\", lit(1.0))\n",
    "\n",
    "# Out-degree per node\n",
    "out_deg = flights_graph.edges.groupBy(\"src\").count().withColumnRenamed(\"count\", \"out_deg\")\n",
    "\n",
    "for i in range(10):\n",
    "    # Join edges with ranks and out-degrees\n",
    "    contribs = flights_graph.edges.join(ranks, flights_graph.edges.src == ranks.id, \"left\") \\\n",
    "        .join(out_deg, flights_graph.edges.src == out_deg.src, \"left\") \\\n",
    "        .select(\n",
    "            flights_graph.edges.dst.alias(\"id\"),\n",
    "            (ranks[\"rank\"] / out_deg[\"out_deg\"]).alias(\"contrib\")\n",
    "        )\n",
    "\n",
    "    # Sum contributions for each destination node\n",
    "    contribs_sum = contribs.groupBy(\"id\").agg(F.sum(\"contrib\").alias(\"total_contrib\"))\n",
    "\n",
    "    # Calculate lost rank from dangling nodes (those with no out_deg)\n",
    "    dangling = ranks.join(out_deg, ranks.id == out_deg.src, \"left_anti\") \\\n",
    "        .agg(F.sum(\"rank\").alias(\"dangling_rank\")) \\\n",
    "        .collect()[0][\"dangling_rank\"] or 0.0\n",
    "\n",
    "    # Redistribute dangling rank evenly\n",
    "    dangling_contrib = dangling / N\n",
    "\n",
    "    # New rank with teleportation and dangling compensation\n",
    "    ranks = contribs_sum.withColumn(\n",
    "        \"rank\", (1 - d) / N + d * (F.col(\"total_contrib\") + dangling_contrib)\n",
    "    ).select(\"id\", \"rank\")\n",
    "\n",
    "# (Optional) Scale like GraphFrames (multiply by N)\n",
    "#ranks = ranks.withColumn(\"rank\", F.col(\"rank\") * N)"
   ]
  },
  {
   "cell_type": "code",
   "execution_count": 15,
   "metadata": {},
   "outputs": [
    {
     "name": "stdout",
     "output_type": "stream",
     "text": [
      "+---+------------------+\n",
      "|id |rank              |\n",
      "+---+------------------+\n",
      "|ATL|3.7746932311897385|\n",
      "|ORD|2.850520736190481 |\n",
      "|DFW|2.4056640181384736|\n",
      "|DEN|2.163725650494938 |\n",
      "|LAX|1.778803317075194 |\n",
      "|PHX|1.6883137905071532|\n",
      "|IAH|1.6533685515850127|\n",
      "|LAS|1.4148972198032859|\n",
      "|DTW|1.3801447747730897|\n",
      "|SFO|1.262865778039641 |\n",
      "|SLC|1.2240942931960062|\n",
      "|MSP|1.1011494882352182|\n",
      "|MCO|1.095789144824452 |\n",
      "|JFK|1.0868795515170306|\n",
      "|EWR|1.076759725872456 |\n",
      "|CLT|1.0558085232802255|\n",
      "|BOS|1.0017639456686338|\n",
      "|SEA|0.9878947083935656|\n",
      "|BWI|0.9131998814888409|\n",
      "|LGA|0.9079504697804851|\n",
      "+---+------------------+\n",
      "only showing top 20 rows\n",
      "\n"
     ]
    }
   ],
   "source": [
    "#total_rank = ranks.agg(F.sum(\"rank\")).collect()[0][0]\n",
    "#ranks = ranks.withColumn(\"rank\", F.col(\"rank\") / total_rank * N)\n",
    "ranks.orderBy(\"rank\", ascending=False).show(20, truncate=False)"
   ]
  },
  {
   "cell_type": "code",
   "execution_count": 16,
   "metadata": {},
   "outputs": [
    {
     "name": "stdout",
     "output_type": "stream",
     "text": [
      "Top 10 most important airports\n"
     ]
    },
    {
     "data": {
      "text/html": [
       "<table border='1'>\n",
       "<tr><th>id</th><th>pagerank</th></tr>\n",
       "<tr><td>ATL</td><td>18.905010413236518</td></tr>\n",
       "<tr><td>ORD</td><td>12.927110422702082</td></tr>\n",
       "<tr><td>DFW</td><td>11.735613068886845</td></tr>\n",
       "<tr><td>DEN</td><td>9.998483451764816</td></tr>\n",
       "<tr><td>LAX</td><td>7.726101869874797</td></tr>\n",
       "<tr><td>IAH</td><td>7.159305038124472</td></tr>\n",
       "<tr><td>PHX</td><td>7.065371562598674</td></tr>\n",
       "<tr><td>SLC</td><td>7.038754134167305</td></tr>\n",
       "<tr><td>DTW</td><td>7.01996853674844</td></tr>\n",
       "<tr><td>SFO</td><td>5.904248175402539</td></tr>\n",
       "<tr><td>MSP</td><td>5.767098900896417</td></tr>\n",
       "<tr><td>LAS</td><td>5.6729832179005575</td></tr>\n",
       "<tr><td>SEA</td><td>5.018582205279419</td></tr>\n",
       "<tr><td>JFK</td><td>4.5725157752482835</td></tr>\n",
       "<tr><td>MCO</td><td>4.449857770587094</td></tr>\n",
       "<tr><td>EWR</td><td>4.352367427828084</td></tr>\n",
       "<tr><td>CLT</td><td>4.236335509985269</td></tr>\n",
       "<tr><td>BOS</td><td>3.8549115372738627</td></tr>\n",
       "<tr><td>BWI</td><td>3.6183912039082955</td></tr>\n",
       "<tr><td>LGA</td><td>3.609964046600943</td></tr>\n",
       "</table>\n",
       "only showing top 20 rows\n"
      ],
      "text/plain": [
       "+---+------------------+\n",
       "| id|          pagerank|\n",
       "+---+------------------+\n",
       "|ATL|18.905010413236518|\n",
       "|ORD|12.927110422702082|\n",
       "|DFW|11.735613068886845|\n",
       "|DEN| 9.998483451764816|\n",
       "|LAX| 7.726101869874797|\n",
       "|IAH| 7.159305038124472|\n",
       "|PHX| 7.065371562598674|\n",
       "|SLC| 7.038754134167305|\n",
       "|DTW|  7.01996853674844|\n",
       "|SFO| 5.904248175402539|\n",
       "|MSP| 5.767098900896417|\n",
       "|LAS|5.6729832179005575|\n",
       "|SEA| 5.018582205279419|\n",
       "|JFK|4.5725157752482835|\n",
       "|MCO| 4.449857770587094|\n",
       "|EWR| 4.352367427828084|\n",
       "|CLT| 4.236335509985269|\n",
       "|BOS|3.8549115372738627|\n",
       "|BWI|3.6183912039082955|\n",
       "|LGA| 3.609964046600943|\n",
       "+---+------------------+\n",
       "only showing top 20 rows"
      ]
     },
     "metadata": {},
     "output_type": "display_data"
    }
   ],
   "source": [
    "g_pagerank = flights_graph.pageRank(resetProbability=0.15, maxIter=10)\n",
    "\n",
    "print(\"Top 10 most important airports\")\n",
    "result = g_pagerank.vertices.select(\"id\", \"pagerank\").orderBy(\"pagerank\", ascending=False)\n",
    "display(result)"
   ]
  },
  {
   "cell_type": "code",
   "execution_count": 8,
   "metadata": {},
   "outputs": [
    {
     "name": "stdout",
     "output_type": "stream",
     "text": [
      "+---+--------------------+\n",
      "|id |PageRank            |\n",
      "+---+--------------------+\n",
      "|ATL|0.03829482725760366 |\n",
      "|DFW|0.030362162638916196|\n",
      "|ORD|0.02814470298652412 |\n",
      "|DTW|0.026089008410129615|\n",
      "|MSP|0.02565197884466995 |\n",
      "|DEN|0.02373745663718426 |\n",
      "|SLC|0.022853022910430842|\n",
      "|IAH|0.019129464884312435|\n",
      "|LAX|0.01713158721564218 |\n",
      "|CVG|0.016408078973259174|\n",
      "+---+--------------------+\n",
      "only showing top 10 rows\n",
      "\n"
     ]
    }
   ],
   "source": [
    "from pyspark.sql import functions as F\n",
    "from pyspark.sql.functions import col, lit, sum as Fsum, coalesce\n",
    "\n",
    "# Number of nodes (vertices)\n",
    "N = flights_graph.vertices.count()\n",
    "\n",
    "# Damping factor and number of iterations\n",
    "damping = 0.85\n",
    "iterations = 10\n",
    "\n",
    "# Initialize ranks with 1 / N for each vertex\n",
    "ranks = flights_graph.vertices.withColumn(\"PageRank\", lit(1.0 / N))\n",
    "\n",
    "# Compute out-degree for each source node\n",
    "out_degree_df = edges_df.groupBy(\"src\").count().withColumnRenamed(\"count\", \"outDegree\")\n",
    "\n",
    "# Run PageRank for a set number of iterations\n",
    "for i in range(iterations):\n",
    "    contribs = edges_df \\\n",
    "        .join(ranks, edges_df.src == ranks.id, \"left\") \\\n",
    "        .join(out_degree_df, \"src\") \\\n",
    "        .withColumn(\"contrib\", col(\"PageRank\") / col(\"outDegree\")) \\\n",
    "        .groupBy(\"dst\") \\\n",
    "        .agg(Fsum(\"contrib\").alias(\"contrib\"))\n",
    "\n",
    "    # Update ranks using the contributions from the previous step\n",
    "    ranks = ranks.join(contribs, ranks.id == contribs.dst, how=\"left_outer\") \\\n",
    "        .select(ranks.id, ((1 - damping) / N + damping * coalesce(col(\"contrib\"), lit(0.0))).alias(\"PageRank\"))\n",
    "\n",
    "# Show the top 10 ranks\n",
    "ranks.orderBy(\"PageRank\", ascending=False).show(10, truncate=False)"
   ]
  },
  {
   "cell_type": "code",
   "execution_count": 6,
   "metadata": {},
   "outputs": [
    {
     "name": "stdout",
     "output_type": "stream",
     "text": [
      "+---+--------------------+\n",
      "|id |PageRank            |\n",
      "+---+--------------------+\n",
      "|ATL|0.03829482725760366 |\n",
      "|DFW|0.030362162638916196|\n",
      "|ORD|0.02814470298652412 |\n",
      "|DTW|0.026089008410129615|\n",
      "|MSP|0.02565197884466995 |\n",
      "|DEN|0.02373745663718426 |\n",
      "|SLC|0.022853022910430842|\n",
      "|IAH|0.019129464884312435|\n",
      "|LAX|0.01713158721564218 |\n",
      "|CVG|0.016408078973259174|\n",
      "+---+--------------------+\n",
      "only showing top 10 rows\n",
      "\n"
     ]
    }
   ],
   "source": [
    "from pyspark.sql.functions import col, lit, sum as Fsum, coalesce\n",
    "\n",
    "N = airports_df.count()\n",
    "damping = 0.85\n",
    "iterations = 10\n",
    "\n",
    "ranks = airports_df.withColumn(\"PageRank\", lit(1.0 / N))\n",
    "\n",
    "out_degree_df = edges_df.groupBy(\"src\").count().withColumnRenamed(\"count\", \"outDegree\")\n",
    "\n",
    "for i in range(iterations):\n",
    "    contribs = edges_df \\\n",
    "        .join(ranks, edges_df.src == ranks.id, \"left\") \\\n",
    "        .join(out_degree_df, \"src\") \\\n",
    "        .withColumn(\"contrib\", col(\"PageRank\") / col(\"outDegree\")) \\\n",
    "        .groupBy(\"dst\") \\\n",
    "        .agg(Fsum(\"contrib\").alias(\"contrib\"))\n",
    "\n",
    "    ranks = airports_df.join(contribs, airports_df.id == contribs.dst, how=\"left_outer\") \\\n",
    "        .select(\"id\", ((1 - damping) / N + damping * coalesce(col(\"contrib\"), lit(0.0))).alias(\"PageRank\"))\n",
    "\n",
    "ranks.orderBy(\"PageRank\", ascending=False).show(10, truncate=False)"
   ]
  },
  {
   "cell_type": "code",
   "execution_count": 7,
   "metadata": {},
   "outputs": [
    {
     "name": "stdout",
     "output_type": "stream",
     "text": [
      "+---+--------------------+\n",
      "|id |PageRank_norm       |\n",
      "+---+--------------------+\n",
      "|ATL|0.038294827257603734|\n",
      "|DFW|0.03036216263891622 |\n",
      "|ORD|0.028144702986524158|\n",
      "|DTW|0.02608900841012964 |\n",
      "|MSP|0.02565197884466997 |\n",
      "|DEN|0.023737456637184275|\n",
      "|SLC|0.022853022910430853|\n",
      "|IAH|0.019129464884312452|\n",
      "|LAX|0.0171315872156422  |\n",
      "|CVG|0.016408078973259188|\n",
      "+---+--------------------+\n",
      "only showing top 10 rows\n",
      "\n"
     ]
    }
   ],
   "source": [
    "##validation \n",
    "#smaller graph, due to memory and performance issues\n",
    "#edges_sample = edges_df.sample(False, 0.001, seed=123)\n",
    "airports_sample = edges_df.select(\"src\").union(edges_df.select(\"dst\")).distinct().withColumnRenamed(\"src\", \"id\")\n",
    "small_graph = gf.GraphFrame(airports_sample, edges_df)\n",
    "\n",
    "pagerank_check = small_graph.pageRank(resetProbability=0.15, maxIter=10)\n",
    "total_rank = pagerank_check.vertices.agg(F.sum(\"pagerank\").alias(\"total\")).collect()[0][\"total\"]\n",
    "normalized_pagerank = pagerank_check.vertices \\\n",
    "    .withColumn(\"PageRank_norm\", F.col(\"pagerank\") / F.lit(total_rank)) \\\n",
    "    .select(\"id\", \"PageRank_norm\")\n",
    "\n",
    "normalized_pagerank.orderBy(\"PageRank_norm\", ascending=False).show(10, truncate=False)\n",
    "\n"
   ]
  },
  {
   "cell_type": "markdown",
   "metadata": {},
   "source": [
    "### Query 5"
   ]
  },
  {
   "cell_type": "code",
   "execution_count": 4,
   "metadata": {},
   "outputs": [
    {
     "name": "stdout",
     "output_type": "stream",
     "text": [
      "Number of airports in largest connected component (manual BFS): 296\n",
      "+---+\n",
      "|id |\n",
      "+---+\n",
      "|ATL|\n",
      "|CLT|\n",
      "|BNA|\n",
      "|HNL|\n",
      "|SHV|\n",
      "|CVG|\n",
      "|VPS|\n",
      "|SJC|\n",
      "|MSY|\n",
      "|TLH|\n",
      "+---+\n",
      "only showing top 10 rows\n",
      "\n"
     ]
    }
   ],
   "source": [
    "from pyspark.sql.functions import col\n",
    "\n",
    "# Clean the dataset and prepare the edges\n",
    "df_cleaned = df.dropna(subset=[\"ORIGIN\", \"DEST\"])\n",
    "\n",
    "# Create initial edges\n",
    "edges_df = df_cleaned.select(\n",
    "    col(\"ORIGIN\").alias(\"src\"),\n",
    "    col(\"DEST\").alias(\"dst\")\n",
    ").distinct()\n",
    "\n",
    "# Create reversed edges for undirected graph (bidirectional)\n",
    "edges_reversed = edges_df.select(col(\"dst\").alias(\"src\"), col(\"src\").alias(\"dst\"))\n",
    "undirected_edges = edges_df.union(edges_reversed).distinct()\n",
    "\n",
    "# Start with one airport (e.g., ATL)\n",
    "starting_airport = \"ATL\"\n",
    "current_frontier = spark.createDataFrame([(starting_airport,)], [\"id\"])\n",
    "visited = current_frontier\n",
    "\n",
    "# Iteratively expand the frontier\n",
    "# We use a loop to propagate until all connected nodes are visited\n",
    "while True:\n",
    "    # Get new neighbors by joining with the edges\n",
    "    neighbors = current_frontier.join(undirected_edges, current_frontier.id == undirected_edges.src) \\\n",
    "                                 .select(undirected_edges.dst.alias(\"id\")).distinct()\n",
    "    \n",
    "    # Exclude already visited nodes\n",
    "    new_nodes = neighbors.join(visited, on=\"id\", how=\"left_anti\").distinct()\n",
    "    \n",
    "    # If no new nodes were found, we've processed all connected components\n",
    "    if new_nodes.count() == 0:\n",
    "        break\n",
    "    \n",
    "    # Update the frontier and visited\n",
    "    visited = visited.union(new_nodes).distinct()\n",
    "    current_frontier = new_nodes\n",
    "\n",
    "# Final result: all airports in the largest connected component\n",
    "visited_airports = visited\n",
    "print(\"Number of airports in largest connected component (manual BFS):\", visited_airports.count())\n",
    "visited_airports.show(10, truncate=False)  # Show the first 10 airports, adjust as needed"
   ]
  },
  {
   "cell_type": "code",
   "execution_count": 5,
   "metadata": {},
   "outputs": [
    {
     "name": "stdout",
     "output_type": "stream",
     "text": [
      "Largest component ID: 0\n",
      "Number of airports in the largest component: 296\n",
      "+---+---------+\n",
      "|id |component|\n",
      "+---+---------+\n",
      "|CLT|0        |\n",
      "|BNA|0        |\n",
      "|HNL|0        |\n",
      "|TVC|0        |\n",
      "|CLL|0        |\n",
      "|BGM|0        |\n",
      "|LCH|0        |\n",
      "|SHV|0        |\n",
      "|TEX|0        |\n",
      "|PSC|0        |\n",
      "|ERI|0        |\n",
      "|PSE|0        |\n",
      "|CVG|0        |\n",
      "|VPS|0        |\n",
      "|MSY|0        |\n",
      "|SJC|0        |\n",
      "|CIC|0        |\n",
      "|TOL|0        |\n",
      "|BUF|0        |\n",
      "|LGA|0        |\n",
      "+---+---------+\n",
      "only showing top 20 rows\n",
      "\n"
     ]
    }
   ],
   "source": [
    "# Create the GraphFrame\n",
    "from graphframes import GraphFrame\n",
    "airports_df = df_cleaned.select(col(\"ORIGIN\").alias(\"id\")).union(\n",
    "    df_cleaned.select(col(\"DEST\").alias(\"id\"))\n",
    ").distinct()\n",
    "\n",
    "# Create the edges (flights)\n",
    "edges_df = df_cleaned.select(\n",
    "    col(\"ORIGIN\").alias(\"src\"),\n",
    "    col(\"DEST\").alias(\"dst\")\n",
    ").distinct()\n",
    "\n",
    "# Initialize the GraphFrame\n",
    "flights_graph = GraphFrame(airports_df, edges_df)\n",
    "\n",
    "# Run the connected components algorithm\n",
    "components_df = flights_graph.connectedComponents()\n",
    "\n",
    "# Group by component ID and count the number of airports in each component\n",
    "component_sizes_df = components_df.groupBy(\"component\").count()\n",
    "\n",
    "# Find the largest component\n",
    "largest_component_row = component_sizes_df.orderBy(col(\"count\").desc()).first()\n",
    "\n",
    "# Show the largest component and its size\n",
    "print(f\"Largest component ID: {largest_component_row['component']}\")\n",
    "print(f\"Number of airports in the largest component: {largest_component_row['count']}\")\n",
    "\n",
    "# Optionally, show the airports in the largest component\n",
    "largest_component_airports = components_df.filter(components_df.component == largest_component_row['component'])\n",
    "largest_component_airports.show(truncate=False)"
   ]
  }
 ],
 "metadata": {
  "application/vnd.databricks.v1+notebook": {
   "dashboards": [],
   "language": "python",
   "notebookMetadata": {
    "pythonIndentUnit": 2
   },
   "notebookName": "Practice session - Dataframe",
   "notebookOrigID": 1061204080530756,
   "widgets": {}
  },
  "colab": {
   "provenance": []
  },
  "kernelspec": {
   "display_name": "Python 3 (ipykernel)",
   "language": "python",
   "name": "python3"
  },
  "language_info": {
   "codemirror_mode": {
    "name": "ipython",
    "version": 3
   },
   "file_extension": ".py",
   "mimetype": "text/x-python",
   "name": "python",
   "nbconvert_exporter": "python",
   "pygments_lexer": "ipython3",
   "version": "3.11.10"
  }
 },
 "nbformat": 4,
 "nbformat_minor": 4
}
